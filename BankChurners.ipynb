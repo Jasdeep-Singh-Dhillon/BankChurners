{
  "nbformat": 4,
  "nbformat_minor": 0,
  "metadata": {
    "colab": {
      "name": "BankChurners.ipynb",
      "provenance": [],
      "collapsed_sections": []
    },
    "kernelspec": {
      "display_name": "Python 3",
      "name": "python3"
    }
  },
  "cells": [
    {
      "cell_type": "markdown",
      "metadata": {
        "id": "t1oADyaaeALr"
      },
      "source": [
        "# **Precdiction of Churned Customers of Bank**"
      ]
    },
    {
      "cell_type": "markdown",
      "metadata": {
        "id": "cnsYIEKCUpj_"
      },
      "source": [
        "# CST 383: Intro to Data Science\n",
        "Dr. Glenn Bruns\n",
        "Logistic regression mini-project\n",
        "\n",
        "Ritik Sirsikar, Jasdeep Singh Dhillon\n",
        "\n",
        "# Instructions.  This is an open-ended project in which you perform classification using logistic regression on the Bank chruners data we've seen in lab"
      ]
    },
    {
      "cell_type": "markdown",
      "metadata": {
        "id": "dlm2Sw7KUz1B"
      },
      "source": [
        "# **Introduction**"
      ]
    },
    {
      "cell_type": "markdown",
      "metadata": {
        "id": "eijodukYU2XC"
      },
      "source": [
        "In this project we have explored a bank churners dataset and performed logistic \n",
        "regression. Now, this dataset consists of 10,000 customers mentioning their age, salary, marital_status, credit card limit, credit card category, etc. There are nearly 18 features.\n",
        "\n",
        "A business manager of a consumer credit card portfolio is facing the problem of customer attrition. They want to analyze the data to find out the reason behind this and leverage the same to predict customers who are likely to drop off.\n",
        "\n",
        "Information about the dataset can be found here: https://www.kaggle.com/sakshigoyal7/credit-card-customers\n"
      ]
    },
    {
      "cell_type": "markdown",
      "metadata": {
        "id": "wpbM37cDWk1s"
      },
      "source": [
        "# **Libraries**"
      ]
    },
    {
      "cell_type": "markdown",
      "metadata": {
        "id": "hV7bPR-iWrlr"
      },
      "source": [
        "Importing necessary libraries reuqired for excecuting Logistic regression for Bank churning data"
      ]
    },
    {
      "cell_type": "code",
      "metadata": {
        "id": "MTgrWYTt-tIE"
      },
      "source": [
        "#Importing libraries\n",
        "\n",
        "import numpy as np \n",
        "import pandas as pd \n",
        "import matplotlib.pyplot as plt\n",
        "import seaborn as sns\n",
        "import matplotlib.pyplot as plt\n",
        "import seaborn as sns        \n",
        "from sklearn.model_selection import train_test_split\n",
        "from sklearn.metrics import confusion_matrix\n",
        "from sklearn.metrics import plot_confusion_matrix\n",
        "from sklearn.tree import DecisionTreeClassifier\n",
        "from sklearn.tree import export_graphviz\n",
        "import graphviz\n",
        "from sklearn.model_selection import learning_curve\n",
        "from scipy.stats import zscore\n",
        "from sklearn.linear_model import LogisticRegression\n",
        "import sklearn.metrics as metrics\n",
        "from sklearn.naive_bayes import CategoricalNB"
      ],
      "execution_count": 585,
      "outputs": []
    },
    {
      "cell_type": "markdown",
      "metadata": {
        "id": "MjmZtjpfUo-T"
      },
      "source": [
        "# **Read the data**"
      ]
    },
    {
      "cell_type": "code",
      "metadata": {
        "id": "BkWuvjefXoaW"
      },
      "source": [
        "df = pd.read_csv(\"https://raw.githubusercontent.com/Jasdeep-Singh-Dhillon/cst383-project2/dataset/BankChurners.csv\")"
      ],
      "execution_count": 586,
      "outputs": []
    },
    {
      "cell_type": "markdown",
      "metadata": {
        "id": "55SUaHOUW52b"
      },
      "source": [
        "# **Data Cleaning**"
      ]
    },
    {
      "cell_type": "markdown",
      "metadata": {
        "id": "DsLvREDvW9Vi"
      },
      "source": [
        "Now, we will check the details pertaining to data shape and type"
      ]
    },
    {
      "cell_type": "code",
      "metadata": {
        "colab": {
          "base_uri": "https://localhost:8080/"
        },
        "id": "K7fPEs-kCx2y",
        "outputId": "c87fd322-49e2-443e-defc-b823cb1726fa"
      },
      "source": [
        "#extracting information of the data\n",
        "df.info()"
      ],
      "execution_count": 587,
      "outputs": [
        {
          "output_type": "stream",
          "text": [
            "<class 'pandas.core.frame.DataFrame'>\n",
            "RangeIndex: 10127 entries, 0 to 10126\n",
            "Data columns (total 23 columns):\n",
            " #   Column                                                                                                                              Non-Null Count  Dtype  \n",
            "---  ------                                                                                                                              --------------  -----  \n",
            " 0   CLIENTNUM                                                                                                                           10127 non-null  int64  \n",
            " 1   Attrition_Flag                                                                                                                      10127 non-null  object \n",
            " 2   Customer_Age                                                                                                                        10127 non-null  int64  \n",
            " 3   Gender                                                                                                                              10127 non-null  object \n",
            " 4   Dependent_count                                                                                                                     10127 non-null  int64  \n",
            " 5   Education_Level                                                                                                                     10127 non-null  object \n",
            " 6   Marital_Status                                                                                                                      10127 non-null  object \n",
            " 7   Income_Category                                                                                                                     10127 non-null  object \n",
            " 8   Card_Category                                                                                                                       10127 non-null  object \n",
            " 9   Months_on_book                                                                                                                      10127 non-null  int64  \n",
            " 10  Total_Relationship_Count                                                                                                            10127 non-null  int64  \n",
            " 11  Months_Inactive_12_mon                                                                                                              10127 non-null  int64  \n",
            " 12  Contacts_Count_12_mon                                                                                                               10127 non-null  int64  \n",
            " 13  Credit_Limit                                                                                                                        10127 non-null  float64\n",
            " 14  Total_Revolving_Bal                                                                                                                 10127 non-null  int64  \n",
            " 15  Avg_Open_To_Buy                                                                                                                     10127 non-null  float64\n",
            " 16  Total_Amt_Chng_Q4_Q1                                                                                                                10127 non-null  float64\n",
            " 17  Total_Trans_Amt                                                                                                                     10127 non-null  int64  \n",
            " 18  Total_Trans_Ct                                                                                                                      10127 non-null  int64  \n",
            " 19  Total_Ct_Chng_Q4_Q1                                                                                                                 10127 non-null  float64\n",
            " 20  Avg_Utilization_Ratio                                                                                                               10127 non-null  float64\n",
            " 21  Naive_Bayes_Classifier_Attrition_Flag_Card_Category_Contacts_Count_12_mon_Dependent_count_Education_Level_Months_Inactive_12_mon_1  10127 non-null  float64\n",
            " 22  Naive_Bayes_Classifier_Attrition_Flag_Card_Category_Contacts_Count_12_mon_Dependent_count_Education_Level_Months_Inactive_12_mon_2  10127 non-null  float64\n",
            "dtypes: float64(7), int64(10), object(6)\n",
            "memory usage: 1.8+ MB\n"
          ],
          "name": "stdout"
        }
      ]
    },
    {
      "cell_type": "markdown",
      "metadata": {
        "id": "ra66ct8JW_d0"
      },
      "source": [
        "In total, 10 integer type, 6 object type and 7 float type data found."
      ]
    },
    {
      "cell_type": "markdown",
      "metadata": {
        "id": "OLZoJB_jYemC"
      },
      "source": [
        "## Dropping last two columns of the datasets"
      ]
    },
    {
      "cell_type": "code",
      "metadata": {
        "colab": {
          "base_uri": "https://localhost:8080/",
          "height": 609
        },
        "id": "-T8khYAhYP1b",
        "outputId": "0cb1f89c-9b81-4fa9-95f0-e2b884920b7a"
      },
      "source": [
        "df = df.drop(columns=['Naive_Bayes_Classifier_Attrition_Flag_Card_Category_Contacts_Count_12_mon_Dependent_count_Education_Level_Months_Inactive_12_mon_1', 'Naive_Bayes_Classifier_Attrition_Flag_Card_Category_Contacts_Count_12_mon_Dependent_count_Education_Level_Months_Inactive_12_mon_2'])\n",
        "df"
      ],
      "execution_count": 588,
      "outputs": [
        {
          "output_type": "execute_result",
          "data": {
            "text/html": [
              "<div>\n",
              "<style scoped>\n",
              "    .dataframe tbody tr th:only-of-type {\n",
              "        vertical-align: middle;\n",
              "    }\n",
              "\n",
              "    .dataframe tbody tr th {\n",
              "        vertical-align: top;\n",
              "    }\n",
              "\n",
              "    .dataframe thead th {\n",
              "        text-align: right;\n",
              "    }\n",
              "</style>\n",
              "<table border=\"1\" class=\"dataframe\">\n",
              "  <thead>\n",
              "    <tr style=\"text-align: right;\">\n",
              "      <th></th>\n",
              "      <th>CLIENTNUM</th>\n",
              "      <th>Attrition_Flag</th>\n",
              "      <th>Customer_Age</th>\n",
              "      <th>Gender</th>\n",
              "      <th>Dependent_count</th>\n",
              "      <th>Education_Level</th>\n",
              "      <th>Marital_Status</th>\n",
              "      <th>Income_Category</th>\n",
              "      <th>Card_Category</th>\n",
              "      <th>Months_on_book</th>\n",
              "      <th>Total_Relationship_Count</th>\n",
              "      <th>Months_Inactive_12_mon</th>\n",
              "      <th>Contacts_Count_12_mon</th>\n",
              "      <th>Credit_Limit</th>\n",
              "      <th>Total_Revolving_Bal</th>\n",
              "      <th>Avg_Open_To_Buy</th>\n",
              "      <th>Total_Amt_Chng_Q4_Q1</th>\n",
              "      <th>Total_Trans_Amt</th>\n",
              "      <th>Total_Trans_Ct</th>\n",
              "      <th>Total_Ct_Chng_Q4_Q1</th>\n",
              "      <th>Avg_Utilization_Ratio</th>\n",
              "    </tr>\n",
              "  </thead>\n",
              "  <tbody>\n",
              "    <tr>\n",
              "      <th>0</th>\n",
              "      <td>768805383</td>\n",
              "      <td>Existing Customer</td>\n",
              "      <td>45</td>\n",
              "      <td>M</td>\n",
              "      <td>3</td>\n",
              "      <td>High School</td>\n",
              "      <td>Married</td>\n",
              "      <td>$60K - $80K</td>\n",
              "      <td>Blue</td>\n",
              "      <td>39</td>\n",
              "      <td>5</td>\n",
              "      <td>1</td>\n",
              "      <td>3</td>\n",
              "      <td>12691.0</td>\n",
              "      <td>777</td>\n",
              "      <td>11914.0</td>\n",
              "      <td>1.335</td>\n",
              "      <td>1144</td>\n",
              "      <td>42</td>\n",
              "      <td>1.625</td>\n",
              "      <td>0.061</td>\n",
              "    </tr>\n",
              "    <tr>\n",
              "      <th>1</th>\n",
              "      <td>818770008</td>\n",
              "      <td>Existing Customer</td>\n",
              "      <td>49</td>\n",
              "      <td>F</td>\n",
              "      <td>5</td>\n",
              "      <td>Graduate</td>\n",
              "      <td>Single</td>\n",
              "      <td>Less than $40K</td>\n",
              "      <td>Blue</td>\n",
              "      <td>44</td>\n",
              "      <td>6</td>\n",
              "      <td>1</td>\n",
              "      <td>2</td>\n",
              "      <td>8256.0</td>\n",
              "      <td>864</td>\n",
              "      <td>7392.0</td>\n",
              "      <td>1.541</td>\n",
              "      <td>1291</td>\n",
              "      <td>33</td>\n",
              "      <td>3.714</td>\n",
              "      <td>0.105</td>\n",
              "    </tr>\n",
              "    <tr>\n",
              "      <th>2</th>\n",
              "      <td>713982108</td>\n",
              "      <td>Existing Customer</td>\n",
              "      <td>51</td>\n",
              "      <td>M</td>\n",
              "      <td>3</td>\n",
              "      <td>Graduate</td>\n",
              "      <td>Married</td>\n",
              "      <td>$80K - $120K</td>\n",
              "      <td>Blue</td>\n",
              "      <td>36</td>\n",
              "      <td>4</td>\n",
              "      <td>1</td>\n",
              "      <td>0</td>\n",
              "      <td>3418.0</td>\n",
              "      <td>0</td>\n",
              "      <td>3418.0</td>\n",
              "      <td>2.594</td>\n",
              "      <td>1887</td>\n",
              "      <td>20</td>\n",
              "      <td>2.333</td>\n",
              "      <td>0.000</td>\n",
              "    </tr>\n",
              "    <tr>\n",
              "      <th>3</th>\n",
              "      <td>769911858</td>\n",
              "      <td>Existing Customer</td>\n",
              "      <td>40</td>\n",
              "      <td>F</td>\n",
              "      <td>4</td>\n",
              "      <td>High School</td>\n",
              "      <td>Unknown</td>\n",
              "      <td>Less than $40K</td>\n",
              "      <td>Blue</td>\n",
              "      <td>34</td>\n",
              "      <td>3</td>\n",
              "      <td>4</td>\n",
              "      <td>1</td>\n",
              "      <td>3313.0</td>\n",
              "      <td>2517</td>\n",
              "      <td>796.0</td>\n",
              "      <td>1.405</td>\n",
              "      <td>1171</td>\n",
              "      <td>20</td>\n",
              "      <td>2.333</td>\n",
              "      <td>0.760</td>\n",
              "    </tr>\n",
              "    <tr>\n",
              "      <th>4</th>\n",
              "      <td>709106358</td>\n",
              "      <td>Existing Customer</td>\n",
              "      <td>40</td>\n",
              "      <td>M</td>\n",
              "      <td>3</td>\n",
              "      <td>Uneducated</td>\n",
              "      <td>Married</td>\n",
              "      <td>$60K - $80K</td>\n",
              "      <td>Blue</td>\n",
              "      <td>21</td>\n",
              "      <td>5</td>\n",
              "      <td>1</td>\n",
              "      <td>0</td>\n",
              "      <td>4716.0</td>\n",
              "      <td>0</td>\n",
              "      <td>4716.0</td>\n",
              "      <td>2.175</td>\n",
              "      <td>816</td>\n",
              "      <td>28</td>\n",
              "      <td>2.500</td>\n",
              "      <td>0.000</td>\n",
              "    </tr>\n",
              "    <tr>\n",
              "      <th>...</th>\n",
              "      <td>...</td>\n",
              "      <td>...</td>\n",
              "      <td>...</td>\n",
              "      <td>...</td>\n",
              "      <td>...</td>\n",
              "      <td>...</td>\n",
              "      <td>...</td>\n",
              "      <td>...</td>\n",
              "      <td>...</td>\n",
              "      <td>...</td>\n",
              "      <td>...</td>\n",
              "      <td>...</td>\n",
              "      <td>...</td>\n",
              "      <td>...</td>\n",
              "      <td>...</td>\n",
              "      <td>...</td>\n",
              "      <td>...</td>\n",
              "      <td>...</td>\n",
              "      <td>...</td>\n",
              "      <td>...</td>\n",
              "      <td>...</td>\n",
              "    </tr>\n",
              "    <tr>\n",
              "      <th>10122</th>\n",
              "      <td>772366833</td>\n",
              "      <td>Existing Customer</td>\n",
              "      <td>50</td>\n",
              "      <td>M</td>\n",
              "      <td>2</td>\n",
              "      <td>Graduate</td>\n",
              "      <td>Single</td>\n",
              "      <td>$40K - $60K</td>\n",
              "      <td>Blue</td>\n",
              "      <td>40</td>\n",
              "      <td>3</td>\n",
              "      <td>2</td>\n",
              "      <td>3</td>\n",
              "      <td>4003.0</td>\n",
              "      <td>1851</td>\n",
              "      <td>2152.0</td>\n",
              "      <td>0.703</td>\n",
              "      <td>15476</td>\n",
              "      <td>117</td>\n",
              "      <td>0.857</td>\n",
              "      <td>0.462</td>\n",
              "    </tr>\n",
              "    <tr>\n",
              "      <th>10123</th>\n",
              "      <td>710638233</td>\n",
              "      <td>Attrited Customer</td>\n",
              "      <td>41</td>\n",
              "      <td>M</td>\n",
              "      <td>2</td>\n",
              "      <td>Unknown</td>\n",
              "      <td>Divorced</td>\n",
              "      <td>$40K - $60K</td>\n",
              "      <td>Blue</td>\n",
              "      <td>25</td>\n",
              "      <td>4</td>\n",
              "      <td>2</td>\n",
              "      <td>3</td>\n",
              "      <td>4277.0</td>\n",
              "      <td>2186</td>\n",
              "      <td>2091.0</td>\n",
              "      <td>0.804</td>\n",
              "      <td>8764</td>\n",
              "      <td>69</td>\n",
              "      <td>0.683</td>\n",
              "      <td>0.511</td>\n",
              "    </tr>\n",
              "    <tr>\n",
              "      <th>10124</th>\n",
              "      <td>716506083</td>\n",
              "      <td>Attrited Customer</td>\n",
              "      <td>44</td>\n",
              "      <td>F</td>\n",
              "      <td>1</td>\n",
              "      <td>High School</td>\n",
              "      <td>Married</td>\n",
              "      <td>Less than $40K</td>\n",
              "      <td>Blue</td>\n",
              "      <td>36</td>\n",
              "      <td>5</td>\n",
              "      <td>3</td>\n",
              "      <td>4</td>\n",
              "      <td>5409.0</td>\n",
              "      <td>0</td>\n",
              "      <td>5409.0</td>\n",
              "      <td>0.819</td>\n",
              "      <td>10291</td>\n",
              "      <td>60</td>\n",
              "      <td>0.818</td>\n",
              "      <td>0.000</td>\n",
              "    </tr>\n",
              "    <tr>\n",
              "      <th>10125</th>\n",
              "      <td>717406983</td>\n",
              "      <td>Attrited Customer</td>\n",
              "      <td>30</td>\n",
              "      <td>M</td>\n",
              "      <td>2</td>\n",
              "      <td>Graduate</td>\n",
              "      <td>Unknown</td>\n",
              "      <td>$40K - $60K</td>\n",
              "      <td>Blue</td>\n",
              "      <td>36</td>\n",
              "      <td>4</td>\n",
              "      <td>3</td>\n",
              "      <td>3</td>\n",
              "      <td>5281.0</td>\n",
              "      <td>0</td>\n",
              "      <td>5281.0</td>\n",
              "      <td>0.535</td>\n",
              "      <td>8395</td>\n",
              "      <td>62</td>\n",
              "      <td>0.722</td>\n",
              "      <td>0.000</td>\n",
              "    </tr>\n",
              "    <tr>\n",
              "      <th>10126</th>\n",
              "      <td>714337233</td>\n",
              "      <td>Attrited Customer</td>\n",
              "      <td>43</td>\n",
              "      <td>F</td>\n",
              "      <td>2</td>\n",
              "      <td>Graduate</td>\n",
              "      <td>Married</td>\n",
              "      <td>Less than $40K</td>\n",
              "      <td>Silver</td>\n",
              "      <td>25</td>\n",
              "      <td>6</td>\n",
              "      <td>2</td>\n",
              "      <td>4</td>\n",
              "      <td>10388.0</td>\n",
              "      <td>1961</td>\n",
              "      <td>8427.0</td>\n",
              "      <td>0.703</td>\n",
              "      <td>10294</td>\n",
              "      <td>61</td>\n",
              "      <td>0.649</td>\n",
              "      <td>0.189</td>\n",
              "    </tr>\n",
              "  </tbody>\n",
              "</table>\n",
              "<p>10127 rows × 21 columns</p>\n",
              "</div>"
            ],
            "text/plain": [
              "       CLIENTNUM     Attrition_Flag  ...  Total_Ct_Chng_Q4_Q1 Avg_Utilization_Ratio\n",
              "0      768805383  Existing Customer  ...                1.625                 0.061\n",
              "1      818770008  Existing Customer  ...                3.714                 0.105\n",
              "2      713982108  Existing Customer  ...                2.333                 0.000\n",
              "3      769911858  Existing Customer  ...                2.333                 0.760\n",
              "4      709106358  Existing Customer  ...                2.500                 0.000\n",
              "...          ...                ...  ...                  ...                   ...\n",
              "10122  772366833  Existing Customer  ...                0.857                 0.462\n",
              "10123  710638233  Attrited Customer  ...                0.683                 0.511\n",
              "10124  716506083  Attrited Customer  ...                0.818                 0.000\n",
              "10125  717406983  Attrited Customer  ...                0.722                 0.000\n",
              "10126  714337233  Attrited Customer  ...                0.649                 0.189\n",
              "\n",
              "[10127 rows x 21 columns]"
            ]
          },
          "metadata": {
            "tags": []
          },
          "execution_count": 588
        }
      ]
    },
    {
      "cell_type": "code",
      "metadata": {
        "colab": {
          "base_uri": "https://localhost:8080/"
        },
        "id": "cn4OYtqCXIya",
        "outputId": "0f63d9bd-556c-4ada-f0da-855030672013"
      },
      "source": [
        "df.shape\n"
      ],
      "execution_count": 589,
      "outputs": [
        {
          "output_type": "execute_result",
          "data": {
            "text/plain": [
              "(10127, 21)"
            ]
          },
          "metadata": {
            "tags": []
          },
          "execution_count": 589
        }
      ]
    },
    {
      "cell_type": "markdown",
      "metadata": {
        "id": "F9xwn6rHXWg6"
      },
      "source": [
        "## Let's see the statistical description of the data"
      ]
    },
    {
      "cell_type": "code",
      "metadata": {
        "colab": {
          "base_uri": "https://localhost:8080/",
          "height": 317
        },
        "id": "GpKZ28mjDAKe",
        "outputId": "1ecf9d0a-0329-45ea-aa7a-2923ec51ab9e"
      },
      "source": [
        "df.describe()"
      ],
      "execution_count": 590,
      "outputs": [
        {
          "output_type": "execute_result",
          "data": {
            "text/html": [
              "<div>\n",
              "<style scoped>\n",
              "    .dataframe tbody tr th:only-of-type {\n",
              "        vertical-align: middle;\n",
              "    }\n",
              "\n",
              "    .dataframe tbody tr th {\n",
              "        vertical-align: top;\n",
              "    }\n",
              "\n",
              "    .dataframe thead th {\n",
              "        text-align: right;\n",
              "    }\n",
              "</style>\n",
              "<table border=\"1\" class=\"dataframe\">\n",
              "  <thead>\n",
              "    <tr style=\"text-align: right;\">\n",
              "      <th></th>\n",
              "      <th>CLIENTNUM</th>\n",
              "      <th>Customer_Age</th>\n",
              "      <th>Dependent_count</th>\n",
              "      <th>Months_on_book</th>\n",
              "      <th>Total_Relationship_Count</th>\n",
              "      <th>Months_Inactive_12_mon</th>\n",
              "      <th>Contacts_Count_12_mon</th>\n",
              "      <th>Credit_Limit</th>\n",
              "      <th>Total_Revolving_Bal</th>\n",
              "      <th>Avg_Open_To_Buy</th>\n",
              "      <th>Total_Amt_Chng_Q4_Q1</th>\n",
              "      <th>Total_Trans_Amt</th>\n",
              "      <th>Total_Trans_Ct</th>\n",
              "      <th>Total_Ct_Chng_Q4_Q1</th>\n",
              "      <th>Avg_Utilization_Ratio</th>\n",
              "    </tr>\n",
              "  </thead>\n",
              "  <tbody>\n",
              "    <tr>\n",
              "      <th>count</th>\n",
              "      <td>1.012700e+04</td>\n",
              "      <td>10127.000000</td>\n",
              "      <td>10127.000000</td>\n",
              "      <td>10127.000000</td>\n",
              "      <td>10127.000000</td>\n",
              "      <td>10127.000000</td>\n",
              "      <td>10127.000000</td>\n",
              "      <td>10127.000000</td>\n",
              "      <td>10127.000000</td>\n",
              "      <td>10127.000000</td>\n",
              "      <td>10127.000000</td>\n",
              "      <td>10127.000000</td>\n",
              "      <td>10127.000000</td>\n",
              "      <td>10127.000000</td>\n",
              "      <td>10127.000000</td>\n",
              "    </tr>\n",
              "    <tr>\n",
              "      <th>mean</th>\n",
              "      <td>7.391776e+08</td>\n",
              "      <td>46.325960</td>\n",
              "      <td>2.346203</td>\n",
              "      <td>35.928409</td>\n",
              "      <td>3.812580</td>\n",
              "      <td>2.341167</td>\n",
              "      <td>2.455317</td>\n",
              "      <td>8631.953698</td>\n",
              "      <td>1162.814061</td>\n",
              "      <td>7469.139637</td>\n",
              "      <td>0.759941</td>\n",
              "      <td>4404.086304</td>\n",
              "      <td>64.858695</td>\n",
              "      <td>0.712222</td>\n",
              "      <td>0.274894</td>\n",
              "    </tr>\n",
              "    <tr>\n",
              "      <th>std</th>\n",
              "      <td>3.690378e+07</td>\n",
              "      <td>8.016814</td>\n",
              "      <td>1.298908</td>\n",
              "      <td>7.986416</td>\n",
              "      <td>1.554408</td>\n",
              "      <td>1.010622</td>\n",
              "      <td>1.106225</td>\n",
              "      <td>9088.776650</td>\n",
              "      <td>814.987335</td>\n",
              "      <td>9090.685324</td>\n",
              "      <td>0.219207</td>\n",
              "      <td>3397.129254</td>\n",
              "      <td>23.472570</td>\n",
              "      <td>0.238086</td>\n",
              "      <td>0.275691</td>\n",
              "    </tr>\n",
              "    <tr>\n",
              "      <th>min</th>\n",
              "      <td>7.080821e+08</td>\n",
              "      <td>26.000000</td>\n",
              "      <td>0.000000</td>\n",
              "      <td>13.000000</td>\n",
              "      <td>1.000000</td>\n",
              "      <td>0.000000</td>\n",
              "      <td>0.000000</td>\n",
              "      <td>1438.300000</td>\n",
              "      <td>0.000000</td>\n",
              "      <td>3.000000</td>\n",
              "      <td>0.000000</td>\n",
              "      <td>510.000000</td>\n",
              "      <td>10.000000</td>\n",
              "      <td>0.000000</td>\n",
              "      <td>0.000000</td>\n",
              "    </tr>\n",
              "    <tr>\n",
              "      <th>25%</th>\n",
              "      <td>7.130368e+08</td>\n",
              "      <td>41.000000</td>\n",
              "      <td>1.000000</td>\n",
              "      <td>31.000000</td>\n",
              "      <td>3.000000</td>\n",
              "      <td>2.000000</td>\n",
              "      <td>2.000000</td>\n",
              "      <td>2555.000000</td>\n",
              "      <td>359.000000</td>\n",
              "      <td>1324.500000</td>\n",
              "      <td>0.631000</td>\n",
              "      <td>2155.500000</td>\n",
              "      <td>45.000000</td>\n",
              "      <td>0.582000</td>\n",
              "      <td>0.023000</td>\n",
              "    </tr>\n",
              "    <tr>\n",
              "      <th>50%</th>\n",
              "      <td>7.179264e+08</td>\n",
              "      <td>46.000000</td>\n",
              "      <td>2.000000</td>\n",
              "      <td>36.000000</td>\n",
              "      <td>4.000000</td>\n",
              "      <td>2.000000</td>\n",
              "      <td>2.000000</td>\n",
              "      <td>4549.000000</td>\n",
              "      <td>1276.000000</td>\n",
              "      <td>3474.000000</td>\n",
              "      <td>0.736000</td>\n",
              "      <td>3899.000000</td>\n",
              "      <td>67.000000</td>\n",
              "      <td>0.702000</td>\n",
              "      <td>0.176000</td>\n",
              "    </tr>\n",
              "    <tr>\n",
              "      <th>75%</th>\n",
              "      <td>7.731435e+08</td>\n",
              "      <td>52.000000</td>\n",
              "      <td>3.000000</td>\n",
              "      <td>40.000000</td>\n",
              "      <td>5.000000</td>\n",
              "      <td>3.000000</td>\n",
              "      <td>3.000000</td>\n",
              "      <td>11067.500000</td>\n",
              "      <td>1784.000000</td>\n",
              "      <td>9859.000000</td>\n",
              "      <td>0.859000</td>\n",
              "      <td>4741.000000</td>\n",
              "      <td>81.000000</td>\n",
              "      <td>0.818000</td>\n",
              "      <td>0.503000</td>\n",
              "    </tr>\n",
              "    <tr>\n",
              "      <th>max</th>\n",
              "      <td>8.283431e+08</td>\n",
              "      <td>73.000000</td>\n",
              "      <td>5.000000</td>\n",
              "      <td>56.000000</td>\n",
              "      <td>6.000000</td>\n",
              "      <td>6.000000</td>\n",
              "      <td>6.000000</td>\n",
              "      <td>34516.000000</td>\n",
              "      <td>2517.000000</td>\n",
              "      <td>34516.000000</td>\n",
              "      <td>3.397000</td>\n",
              "      <td>18484.000000</td>\n",
              "      <td>139.000000</td>\n",
              "      <td>3.714000</td>\n",
              "      <td>0.999000</td>\n",
              "    </tr>\n",
              "  </tbody>\n",
              "</table>\n",
              "</div>"
            ],
            "text/plain": [
              "          CLIENTNUM  Customer_Age  ...  Total_Ct_Chng_Q4_Q1  Avg_Utilization_Ratio\n",
              "count  1.012700e+04  10127.000000  ...         10127.000000           10127.000000\n",
              "mean   7.391776e+08     46.325960  ...             0.712222               0.274894\n",
              "std    3.690378e+07      8.016814  ...             0.238086               0.275691\n",
              "min    7.080821e+08     26.000000  ...             0.000000               0.000000\n",
              "25%    7.130368e+08     41.000000  ...             0.582000               0.023000\n",
              "50%    7.179264e+08     46.000000  ...             0.702000               0.176000\n",
              "75%    7.731435e+08     52.000000  ...             0.818000               0.503000\n",
              "max    8.283431e+08     73.000000  ...             3.714000               0.999000\n",
              "\n",
              "[8 rows x 15 columns]"
            ]
          },
          "metadata": {
            "tags": []
          },
          "execution_count": 590
        }
      ]
    },
    {
      "cell_type": "markdown",
      "metadata": {
        "id": "O23iLjGDZKIe"
      },
      "source": [
        "## Changing the index of the dataframe\r\n"
      ]
    },
    {
      "cell_type": "markdown",
      "metadata": {
        "id": "L3pXReuiWWPq"
      },
      "source": [
        "Changing the index to Clientnum since it is a unique identifier for each client."
      ]
    },
    {
      "cell_type": "code",
      "metadata": {
        "id": "ctO5dINYWLHO"
      },
      "source": [
        "df.index = df['CLIENTNUM']\r\n",
        "df = df.drop(columns=['CLIENTNUM'])"
      ],
      "execution_count": 591,
      "outputs": []
    },
    {
      "cell_type": "markdown",
      "metadata": {
        "id": "8jnBijTqXYNK"
      },
      "source": [
        "## Missing values"
      ]
    },
    {
      "cell_type": "code",
      "metadata": {
        "colab": {
          "base_uri": "https://localhost:8080/"
        },
        "id": "T1ajtpYaDDlr",
        "outputId": "358e4b3e-9834-4587-f618-6f1c760cc9ba"
      },
      "source": [
        "#Finding the missing values\n",
        "\n",
        "df.isnull().sum().sort_values(ascending=False)"
      ],
      "execution_count": 592,
      "outputs": [
        {
          "output_type": "execute_result",
          "data": {
            "text/plain": [
              "Avg_Utilization_Ratio       0\n",
              "Total_Ct_Chng_Q4_Q1         0\n",
              "Customer_Age                0\n",
              "Gender                      0\n",
              "Dependent_count             0\n",
              "Education_Level             0\n",
              "Marital_Status              0\n",
              "Income_Category             0\n",
              "Card_Category               0\n",
              "Months_on_book              0\n",
              "Total_Relationship_Count    0\n",
              "Months_Inactive_12_mon      0\n",
              "Contacts_Count_12_mon       0\n",
              "Credit_Limit                0\n",
              "Total_Revolving_Bal         0\n",
              "Avg_Open_To_Buy             0\n",
              "Total_Amt_Chng_Q4_Q1        0\n",
              "Total_Trans_Amt             0\n",
              "Total_Trans_Ct              0\n",
              "Attrition_Flag              0\n",
              "dtype: int64"
            ]
          },
          "metadata": {
            "tags": []
          },
          "execution_count": 592
        }
      ]
    },
    {
      "cell_type": "markdown",
      "metadata": {
        "id": "DCjH0qsjTWux"
      },
      "source": [
        "There are no missing value found."
      ]
    },
    {
      "cell_type": "code",
      "metadata": {
        "colab": {
          "base_uri": "https://localhost:8080/",
          "height": 340
        },
        "id": "meE02BAyDNb9",
        "outputId": "5f37fdfb-0d6e-45a5-833d-2c541240607a"
      },
      "source": [
        "df.head()"
      ],
      "execution_count": 593,
      "outputs": [
        {
          "output_type": "execute_result",
          "data": {
            "text/html": [
              "<div>\n",
              "<style scoped>\n",
              "    .dataframe tbody tr th:only-of-type {\n",
              "        vertical-align: middle;\n",
              "    }\n",
              "\n",
              "    .dataframe tbody tr th {\n",
              "        vertical-align: top;\n",
              "    }\n",
              "\n",
              "    .dataframe thead th {\n",
              "        text-align: right;\n",
              "    }\n",
              "</style>\n",
              "<table border=\"1\" class=\"dataframe\">\n",
              "  <thead>\n",
              "    <tr style=\"text-align: right;\">\n",
              "      <th></th>\n",
              "      <th>Attrition_Flag</th>\n",
              "      <th>Customer_Age</th>\n",
              "      <th>Gender</th>\n",
              "      <th>Dependent_count</th>\n",
              "      <th>Education_Level</th>\n",
              "      <th>Marital_Status</th>\n",
              "      <th>Income_Category</th>\n",
              "      <th>Card_Category</th>\n",
              "      <th>Months_on_book</th>\n",
              "      <th>Total_Relationship_Count</th>\n",
              "      <th>Months_Inactive_12_mon</th>\n",
              "      <th>Contacts_Count_12_mon</th>\n",
              "      <th>Credit_Limit</th>\n",
              "      <th>Total_Revolving_Bal</th>\n",
              "      <th>Avg_Open_To_Buy</th>\n",
              "      <th>Total_Amt_Chng_Q4_Q1</th>\n",
              "      <th>Total_Trans_Amt</th>\n",
              "      <th>Total_Trans_Ct</th>\n",
              "      <th>Total_Ct_Chng_Q4_Q1</th>\n",
              "      <th>Avg_Utilization_Ratio</th>\n",
              "    </tr>\n",
              "    <tr>\n",
              "      <th>CLIENTNUM</th>\n",
              "      <th></th>\n",
              "      <th></th>\n",
              "      <th></th>\n",
              "      <th></th>\n",
              "      <th></th>\n",
              "      <th></th>\n",
              "      <th></th>\n",
              "      <th></th>\n",
              "      <th></th>\n",
              "      <th></th>\n",
              "      <th></th>\n",
              "      <th></th>\n",
              "      <th></th>\n",
              "      <th></th>\n",
              "      <th></th>\n",
              "      <th></th>\n",
              "      <th></th>\n",
              "      <th></th>\n",
              "      <th></th>\n",
              "      <th></th>\n",
              "    </tr>\n",
              "  </thead>\n",
              "  <tbody>\n",
              "    <tr>\n",
              "      <th>768805383</th>\n",
              "      <td>Existing Customer</td>\n",
              "      <td>45</td>\n",
              "      <td>M</td>\n",
              "      <td>3</td>\n",
              "      <td>High School</td>\n",
              "      <td>Married</td>\n",
              "      <td>$60K - $80K</td>\n",
              "      <td>Blue</td>\n",
              "      <td>39</td>\n",
              "      <td>5</td>\n",
              "      <td>1</td>\n",
              "      <td>3</td>\n",
              "      <td>12691.0</td>\n",
              "      <td>777</td>\n",
              "      <td>11914.0</td>\n",
              "      <td>1.335</td>\n",
              "      <td>1144</td>\n",
              "      <td>42</td>\n",
              "      <td>1.625</td>\n",
              "      <td>0.061</td>\n",
              "    </tr>\n",
              "    <tr>\n",
              "      <th>818770008</th>\n",
              "      <td>Existing Customer</td>\n",
              "      <td>49</td>\n",
              "      <td>F</td>\n",
              "      <td>5</td>\n",
              "      <td>Graduate</td>\n",
              "      <td>Single</td>\n",
              "      <td>Less than $40K</td>\n",
              "      <td>Blue</td>\n",
              "      <td>44</td>\n",
              "      <td>6</td>\n",
              "      <td>1</td>\n",
              "      <td>2</td>\n",
              "      <td>8256.0</td>\n",
              "      <td>864</td>\n",
              "      <td>7392.0</td>\n",
              "      <td>1.541</td>\n",
              "      <td>1291</td>\n",
              "      <td>33</td>\n",
              "      <td>3.714</td>\n",
              "      <td>0.105</td>\n",
              "    </tr>\n",
              "    <tr>\n",
              "      <th>713982108</th>\n",
              "      <td>Existing Customer</td>\n",
              "      <td>51</td>\n",
              "      <td>M</td>\n",
              "      <td>3</td>\n",
              "      <td>Graduate</td>\n",
              "      <td>Married</td>\n",
              "      <td>$80K - $120K</td>\n",
              "      <td>Blue</td>\n",
              "      <td>36</td>\n",
              "      <td>4</td>\n",
              "      <td>1</td>\n",
              "      <td>0</td>\n",
              "      <td>3418.0</td>\n",
              "      <td>0</td>\n",
              "      <td>3418.0</td>\n",
              "      <td>2.594</td>\n",
              "      <td>1887</td>\n",
              "      <td>20</td>\n",
              "      <td>2.333</td>\n",
              "      <td>0.000</td>\n",
              "    </tr>\n",
              "    <tr>\n",
              "      <th>769911858</th>\n",
              "      <td>Existing Customer</td>\n",
              "      <td>40</td>\n",
              "      <td>F</td>\n",
              "      <td>4</td>\n",
              "      <td>High School</td>\n",
              "      <td>Unknown</td>\n",
              "      <td>Less than $40K</td>\n",
              "      <td>Blue</td>\n",
              "      <td>34</td>\n",
              "      <td>3</td>\n",
              "      <td>4</td>\n",
              "      <td>1</td>\n",
              "      <td>3313.0</td>\n",
              "      <td>2517</td>\n",
              "      <td>796.0</td>\n",
              "      <td>1.405</td>\n",
              "      <td>1171</td>\n",
              "      <td>20</td>\n",
              "      <td>2.333</td>\n",
              "      <td>0.760</td>\n",
              "    </tr>\n",
              "    <tr>\n",
              "      <th>709106358</th>\n",
              "      <td>Existing Customer</td>\n",
              "      <td>40</td>\n",
              "      <td>M</td>\n",
              "      <td>3</td>\n",
              "      <td>Uneducated</td>\n",
              "      <td>Married</td>\n",
              "      <td>$60K - $80K</td>\n",
              "      <td>Blue</td>\n",
              "      <td>21</td>\n",
              "      <td>5</td>\n",
              "      <td>1</td>\n",
              "      <td>0</td>\n",
              "      <td>4716.0</td>\n",
              "      <td>0</td>\n",
              "      <td>4716.0</td>\n",
              "      <td>2.175</td>\n",
              "      <td>816</td>\n",
              "      <td>28</td>\n",
              "      <td>2.500</td>\n",
              "      <td>0.000</td>\n",
              "    </tr>\n",
              "  </tbody>\n",
              "</table>\n",
              "</div>"
            ],
            "text/plain": [
              "              Attrition_Flag  ...  Avg_Utilization_Ratio\n",
              "CLIENTNUM                     ...                       \n",
              "768805383  Existing Customer  ...                  0.061\n",
              "818770008  Existing Customer  ...                  0.105\n",
              "713982108  Existing Customer  ...                  0.000\n",
              "769911858  Existing Customer  ...                  0.760\n",
              "709106358  Existing Customer  ...                  0.000\n",
              "\n",
              "[5 rows x 20 columns]"
            ]
          },
          "metadata": {
            "tags": []
          },
          "execution_count": 593
        }
      ]
    },
    {
      "cell_type": "markdown",
      "metadata": {
        "id": "dMBXfRgFTa_C"
      },
      "source": [
        "# **Data visualization**"
      ]
    },
    {
      "cell_type": "markdown",
      "metadata": {
        "id": "CAFhTG4UXe06"
      },
      "source": [
        "Let's look at the relationships between some of the features."
      ]
    },
    {
      "cell_type": "markdown",
      "metadata": {
        "id": "P2mVTL2Xc75S"
      },
      "source": [
        "## **Churned Customers**"
      ]
    },
    {
      "cell_type": "code",
      "metadata": {
        "colab": {
          "base_uri": "https://localhost:8080/"
        },
        "id": "C9tn-IM8l_hE",
        "outputId": "21c836f9-9ba1-43b7-ba5f-040d6dd679c5"
      },
      "source": [
        "#Attrition flag plot\n",
        "df['Attrition_Flag'].value_counts()\n"
      ],
      "execution_count": 594,
      "outputs": [
        {
          "output_type": "execute_result",
          "data": {
            "text/plain": [
              "Existing Customer    8500\n",
              "Attrited Customer    1627\n",
              "Name: Attrition_Flag, dtype: int64"
            ]
          },
          "metadata": {
            "tags": []
          },
          "execution_count": 594
        }
      ]
    },
    {
      "cell_type": "markdown",
      "metadata": {
        "id": "goqbPBhnbxDC"
      },
      "source": [
        "Existed Customer : 8500, Churned Customer : 1627"
      ]
    },
    {
      "cell_type": "code",
      "metadata": {
        "id": "EUD2jn14xkmr"
      },
      "source": [
        "def auto(axis):\r\n",
        "    for i in axis.patches:\r\n",
        "           axis.text(i.get_x() + i.get_width() / 2, i.get_height() + 5, i.get_height(),ha='center', va='bottom')"
      ],
      "execution_count": 595,
      "outputs": []
    },
    {
      "cell_type": "code",
      "metadata": {
        "colab": {
          "base_uri": "https://localhost:8080/",
          "height": 335
        },
        "id": "Mj7_Nv-tdH97",
        "outputId": "e75ccee2-be75-4bf1-e912-092695763a30"
      },
      "source": [
        "fig1 , a1 = plt.subplots(1,3,figsize=(20,5))\n",
        "sns.countplot(x='Attrition_Flag',data=df,ax=a1[0],palette=['lightblue','lightgreen']) \n",
        "auto(a1[0])\n",
        "a1[1].pie(df.Attrition_Flag.value_counts(),labels=df.Attrition_Flag.value_counts().index,autopct='%1.1f%%',colors=['lightblue','lightgreen'])\n",
        "sns.countplot(x='Attrition_Flag',hue='Gender',data=df,ax=a1[2])\n",
        "auto(a1[2])"
      ],
      "execution_count": 596,
      "outputs": [
        {
          "output_type": "display_data",
          "data": {
            "image/png": "[encoded data removed]",
            "text/plain": [
              "<Figure size 1440x360 with 3 Axes>"
            ]
          },
          "metadata": {
            "tags": [],
            "needs_background": "light"
          }
        }
      ]
    },
    {
      "cell_type": "markdown",
      "metadata": {
        "id": "dewlEMlrcvrw"
      },
      "source": [
        "## **Male Female Count**"
      ]
    },
    {
      "cell_type": "code",
      "metadata": {
        "id": "mRRbX9Uoce3j"
      },
      "source": [
        "def auto(axis):\n",
        "    for i in axis.patches:\n",
        "           axis.text(i.get_x() + i.get_width() / 2, i.get_height() + 5, i.get_height(),ha='center', va='bottom')"
      ],
      "execution_count": 597,
      "outputs": []
    },
    {
      "cell_type": "code",
      "metadata": {
        "colab": {
          "base_uri": "https://localhost:8080/",
          "height": 351
        },
        "id": "U-0Hd03McFWb",
        "outputId": "1bb6d372-e0f2-4920-dee5-ca8d767f1009"
      },
      "source": [
        "fig , a = plt.subplots(1,2,figsize=(10,5))\n",
        "sns.countplot(x='Gender',data=df,ax=a[0])\n",
        "auto(a[0])\n",
        "a[1].pie(df.Gender.value_counts().sort_values(),labels=df.Gender.value_counts().sort_values().index,autopct='%1.1f%%')\n",
        "a[1].legend()"
      ],
      "execution_count": 598,
      "outputs": [
        {
          "output_type": "execute_result",
          "data": {
            "text/plain": [
              "<matplotlib.legend.Legend at 0x7fef72ea0898>"
            ]
          },
          "metadata": {
            "tags": []
          },
          "execution_count": 598
        },
        {
          "output_type": "display_data",
          "data": {
            "image/png": "[encoded data removed]",
            "text/plain": [
              "<Figure size 720x360 with 2 Axes>"
            ]
          },
          "metadata": {
            "tags": [],
            "needs_background": "light"
          }
        }
      ]
    },
    {
      "cell_type": "code",
      "metadata": {
        "colab": {
          "base_uri": "https://localhost:8080/",
          "height": 345
        },
        "id": "ETunMV-MZDQF",
        "outputId": "c225c13f-dec1-478b-a409-6c906e0ab4ef"
      },
      "source": [
        "np.log(df['Card_Category'].value_counts()).plot(kind='bar')\n",
        "plt.xlabel(\"Card_Category\", labelpad=14)\n",
        "plt.ylabel(\"Count\", labelpad=14)\n",
        "plt.title(\"Card_Category statistics\", y=1.02);"
      ],
      "execution_count": 599,
      "outputs": [
        {
          "output_type": "display_data",
          "data": {
            "image/png": "[encoded data removed]",
            "text/plain": [
              "<Figure size 432x288 with 1 Axes>"
            ]
          },
          "metadata": {
            "tags": [],
            "needs_background": "light"
          }
        }
      ]
    },
    {
      "cell_type": "markdown",
      "metadata": {
        "id": "vnezXBlEddRj"
      },
      "source": [
        "## **Age of Customers**"
      ]
    },
    {
      "cell_type": "code",
      "metadata": {
        "colab": {
          "base_uri": "https://localhost:8080/",
          "height": 406
        },
        "id": "lxfPnmk6dYZC",
        "outputId": "0981772a-823d-43d9-a87f-9866d66e1cbf"
      },
      "source": [
        "fig2 , a2 = plt.subplots(1,2,figsize=(15,5))\n",
        "sns.distplot(df['Customer_Age'] ,ax=a2[0] ,kde=True)\n",
        "sns.boxplot(y='Customer_Age',x='Gender',data=df,ax=a2[1])"
      ],
      "execution_count": 600,
      "outputs": [
        {
          "output_type": "stream",
          "text": [
            "/usr/local/lib/python3.6/dist-packages/seaborn/distributions.py:2551: FutureWarning: `distplot` is a deprecated function and will be removed in a future version. Please adapt your code to use either `displot` (a figure-level function with similar flexibility) or `histplot` (an axes-level function for histograms).\n",
            "  warnings.warn(msg, FutureWarning)\n"
          ],
          "name": "stderr"
        },
        {
          "output_type": "execute_result",
          "data": {
            "text/plain": [
              "<matplotlib.axes._subplots.AxesSubplot at 0x7fef72d69828>"
            ]
          },
          "metadata": {
            "tags": []
          },
          "execution_count": 600
        },
        {
          "output_type": "display_data",
          "data": {
            "image/png": "[encoded data removed]",
            "text/plain": [
              "<Figure size 1080x360 with 2 Axes>"
            ]
          },
          "metadata": {
            "tags": [],
            "needs_background": "light"
          }
        }
      ]
    },
    {
      "cell_type": "markdown",
      "metadata": {
        "id": "EzQiy2ezdspl"
      },
      "source": [
        "## **Dependent Count data**"
      ]
    },
    {
      "cell_type": "code",
      "metadata": {
        "colab": {
          "base_uri": "https://localhost:8080/",
          "height": 280
        },
        "id": "2lmGHwtidoWn",
        "outputId": "2807fecf-8cd1-48dd-c894-9a0fe3db519b"
      },
      "source": [
        "a3=sns.countplot(x='Dependent_count',data=df, color='#3274A1')\n",
        "plt.show()"
      ],
      "execution_count": 601,
      "outputs": [
        {
          "output_type": "display_data",
          "data": {
            "image/png": "[encoded data removed]",
            "text/plain": [
              "<Figure size 432x288 with 1 Axes>"
            ]
          },
          "metadata": {
            "tags": [],
            "needs_background": "light"
          }
        }
      ]
    },
    {
      "cell_type": "markdown",
      "metadata": {
        "id": "EM4zoyxUVg2t"
      },
      "source": [
        "# Processing Data for Machine Learning"
      ]
    },
    {
      "cell_type": "code",
      "metadata": {
        "colab": {
          "base_uri": "https://localhost:8080/"
        },
        "id": "309upll0Z6AW",
        "outputId": "00991482-9b40-4ee7-8926-6a6f8e2bd052"
      },
      "source": [
        "df['Income_Category'].unique()"
      ],
      "execution_count": 602,
      "outputs": [
        {
          "output_type": "execute_result",
          "data": {
            "text/plain": [
              "array(['$60K - $80K', 'Less than $40K', '$80K - $120K', '$40K - $60K',\n",
              "       '$120K +', 'Unknown'], dtype=object)"
            ]
          },
          "metadata": {
            "tags": []
          },
          "execution_count": 602
        }
      ]
    },
    {
      "cell_type": "markdown",
      "metadata": {
        "id": "GzuljkwrXGH9"
      },
      "source": [
        "Converting Attrition Flag column to a boolean categorical value"
      ]
    },
    {
      "cell_type": "code",
      "metadata": {
        "id": "gJApqQ1nVgol"
      },
      "source": [
        "df['Attrition_Flag'] = (df['Attrition_Flag'] == 'Existing Customer')"
      ],
      "execution_count": 603,
      "outputs": []
    },
    {
      "cell_type": "markdown",
      "metadata": {
        "id": "rw4bjo88ZxNM"
      },
      "source": [
        "Converting the gender column to boolean categorical value"
      ]
    },
    {
      "cell_type": "code",
      "metadata": {
        "id": "94tLA0mzXFoF"
      },
      "source": [
        "df['Gender'] = (df['Gender'] == 'M')"
      ],
      "execution_count": 604,
      "outputs": []
    },
    {
      "cell_type": "markdown",
      "metadata": {
        "id": "V8V_5VZ2e3Fl"
      },
      "source": [
        "Getting dummy variables for categorical values"
      ]
    },
    {
      "cell_type": "code",
      "metadata": {
        "id": "zqn8ZXvZZ5HH"
      },
      "source": [
        "df = pd.get_dummies(data=df, columns=['Dependent_count','Education_Level', 'Marital_Status', 'Income_Category', 'Card_Category'])"
      ],
      "execution_count": 605,
      "outputs": []
    },
    {
      "cell_type": "markdown",
      "metadata": {
        "id": "Jqhm6Wn0ia9Z"
      },
      "source": [
        "## Balancing the data\r\n"
      ]
    },
    {
      "cell_type": "markdown",
      "metadata": {
        "id": "DO5oKU4ziwAE"
      },
      "source": [
        "As we can see the data is very imbalanced and to counter that we're going to balance the data by oversampling the minority."
      ]
    },
    {
      "cell_type": "code",
      "metadata": {
        "colab": {
          "base_uri": "https://localhost:8080/"
        },
        "id": "1zfuSntti1qr",
        "outputId": "b55eacf9-df0c-4ad4-94aa-06fe49f4bf1d"
      },
      "source": [
        "df['Attrition_Flag'].value_counts()"
      ],
      "execution_count": 606,
      "outputs": [
        {
          "output_type": "execute_result",
          "data": {
            "text/plain": [
              "True     8500\n",
              "False    1627\n",
              "Name: Attrition_Flag, dtype: int64"
            ]
          },
          "metadata": {
            "tags": []
          },
          "execution_count": 606
        }
      ]
    },
    {
      "cell_type": "code",
      "metadata": {
        "colab": {
          "base_uri": "https://localhost:8080/"
        },
        "id": "UgVNX7YiiekP",
        "outputId": "12fa8b57-5ad3-4fdb-fe19-b757bac9f6ee"
      },
      "source": [
        "majority_rows = df[df['Attrition_Flag'] == 1 ]\r\n",
        "majority_count = majority_rows.shape[0]\r\n",
        "minority_rows = df[df['Attrition_Flag']==0].sample(majority_rows.shape[0], replace=True)\r\n",
        "\r\n",
        "df_balanced = pd.concat([ majority_rows , minority_rows])\r\n",
        "df_balanced = df_balanced. sample (frac=1).reset_index (drop=True)\r\n",
        "df_balanced.shape"
      ],
      "execution_count": 607,
      "outputs": [
        {
          "output_type": "execute_result",
          "data": {
            "text/plain": [
              "(17000, 42)"
            ]
          },
          "metadata": {
            "tags": []
          },
          "execution_count": 607
        }
      ]
    },
    {
      "cell_type": "markdown",
      "metadata": {
        "id": "u1g-Xf-7eI3u"
      },
      "source": [
        "# Machine Learning\r\n"
      ]
    },
    {
      "cell_type": "markdown",
      "metadata": {
        "id": "dMtyScq1eMLm"
      },
      "source": [
        "## Model 1: Using Logistic Regression\r\n",
        "\r\n"
      ]
    },
    {
      "cell_type": "markdown",
      "metadata": {
        "id": "S6xAvxfmfxQ9"
      },
      "source": [
        "Setting the predictors and target variables."
      ]
    },
    {
      "cell_type": "code",
      "metadata": {
        "id": "dOFrzqolePPG"
      },
      "source": [
        "predictors = ['Dependent_count_0','Dependent_count_1', 'Dependent_count_2', 'Dependent_count_3', 'Dependent_count_4', 'Dependent_count_5','Gender','Customer_Age','Credit_Limit','Total_Trans_Amt','Avg_Utilization_Ratio']\r\n",
        "X = df_balanced[predictors].values\r\n",
        "Y = df_balanced['Attrition_Flag'].values"
      ],
      "execution_count": 608,
      "outputs": []
    },
    {
      "cell_type": "markdown",
      "metadata": {
        "id": "HWMLGjBhf4S1"
      },
      "source": [
        "Splitting the data for training the model and testing the accuracy later."
      ]
    },
    {
      "cell_type": "code",
      "metadata": {
        "id": "jXrA00pSf-zA"
      },
      "source": [
        "X_train, X_test, Y_train, Y_test = train_test_split(X, Y, test_size=0.25, random_state=42)"
      ],
      "execution_count": 609,
      "outputs": []
    },
    {
      "cell_type": "markdown",
      "metadata": {
        "id": "IiCO1Jw9gWTH"
      },
      "source": [
        "Initializing the classifier object using logistic regression and training the model."
      ]
    },
    {
      "cell_type": "code",
      "metadata": {
        "colab": {
          "base_uri": "https://localhost:8080/"
        },
        "id": "2X3-nU3IgRbq",
        "outputId": "17a88709-ca15-49cc-93a3-5d620186ca3e"
      },
      "source": [
        "clf = LogisticRegression()\r\n",
        "clf.fit(X_train, Y_train)"
      ],
      "execution_count": 610,
      "outputs": [
        {
          "output_type": "execute_result",
          "data": {
            "text/plain": [
              "LogisticRegression(C=1.0, class_weight=None, dual=False, fit_intercept=True,\n",
              "                   intercept_scaling=1, l1_ratio=None, max_iter=100,\n",
              "                   multi_class='auto', n_jobs=None, penalty='l2',\n",
              "                   random_state=None, solver='lbfgs', tol=0.0001, verbose=0,\n",
              "                   warm_start=False)"
            ]
          },
          "metadata": {
            "tags": []
          },
          "execution_count": 610
        }
      ]
    },
    {
      "cell_type": "markdown",
      "metadata": {
        "id": "B2yPwosqgmOu"
      },
      "source": [
        "Getting probabilities for each of the test data."
      ]
    },
    {
      "cell_type": "code",
      "metadata": {
        "id": "vt8HWVL5glWp"
      },
      "source": [
        "prob_attrition = clf.predict_proba(X_test)[:,1]"
      ],
      "execution_count": 611,
      "outputs": []
    },
    {
      "cell_type": "markdown",
      "metadata": {
        "id": "yu51HwyVgsfr"
      },
      "source": [
        "Setting a threshold value for it the model to make predictions."
      ]
    },
    {
      "cell_type": "code",
      "metadata": {
        "id": "juJ7PcdHg3pF"
      },
      "source": [
        "threshold = 0.5"
      ],
      "execution_count": 612,
      "outputs": []
    },
    {
      "cell_type": "markdown",
      "metadata": {
        "id": "71MlmO0zhCe7"
      },
      "source": [
        "Making predictions based on the threshold value."
      ]
    },
    {
      "cell_type": "code",
      "metadata": {
        "id": "eqEgbu9fg6C7"
      },
      "source": [
        "predicts = (prob_attrition>threshold).astype(int)"
      ],
      "execution_count": 613,
      "outputs": []
    },
    {
      "cell_type": "markdown",
      "metadata": {
        "id": "97oGodZShIy9"
      },
      "source": [
        "Making a confusion matrix using the test data and predictions made by the model. We can see that model makes quite a lot of false negative and false positive errors but the amount of accurate predictions still exceeds it."
      ]
    },
    {
      "cell_type": "code",
      "metadata": {
        "colab": {
          "base_uri": "https://localhost:8080/"
        },
        "id": "N1pQkzimhGcl",
        "outputId": "cf81883a-ab3b-49e7-aea5-bb07bcb0c5e2"
      },
      "source": [
        "matrix = confusion_matrix(Y_test, predicts)\r\n",
        "matrix"
      ],
      "execution_count": 614,
      "outputs": [
        {
          "output_type": "execute_result",
          "data": {
            "text/plain": [
              "array([[1699,  506],\n",
              "       [ 736, 1309]])"
            ]
          },
          "metadata": {
            "tags": []
          },
          "execution_count": 614
        }
      ]
    },
    {
      "cell_type": "markdown",
      "metadata": {
        "id": "T0mnMxyEhxHK"
      },
      "source": [
        "Calculating the accuracy of the current model using the confusion matrix.  As we saw earlier higher number of accurate results were given."
      ]
    },
    {
      "cell_type": "code",
      "metadata": {
        "colab": {
          "base_uri": "https://localhost:8080/"
        },
        "id": "SfsPhKRUhnQm",
        "outputId": "315c8c9a-0b73-4e60-c52d-452e41230669"
      },
      "source": [
        "accuracy = (matrix[0,0]+matrix[1,1])/matrix.sum()\r\n",
        "accuracy"
      ],
      "execution_count": 615,
      "outputs": [
        {
          "output_type": "execute_result",
          "data": {
            "text/plain": [
              "0.707764705882353"
            ]
          },
          "metadata": {
            "tags": []
          },
          "execution_count": 615
        }
      ]
    },
    {
      "cell_type": "markdown",
      "metadata": {
        "id": "kCNF_rkvk-84"
      },
      "source": [
        "## Model 2: Using tree classifier\r\n"
      ]
    },
    {
      "cell_type": "markdown",
      "metadata": {
        "id": "Dy4RgbyangAT"
      },
      "source": [
        "Selecting the predictor columns."
      ]
    },
    {
      "cell_type": "code",
      "metadata": {
        "id": "Rwzqfy-_lw7j"
      },
      "source": [
        "predictors = ['Credit_Limit','Total_Trans_Amt', 'Total_Trans_Ct','Avg_Utilization_Ratio']"
      ],
      "execution_count": 616,
      "outputs": []
    },
    {
      "cell_type": "markdown",
      "metadata": {
        "id": "HHUB3SD-npzO"
      },
      "source": [
        "Splitting the data for training and testing."
      ]
    },
    {
      "cell_type": "code",
      "metadata": {
        "id": "SooZBEX5nsjI"
      },
      "source": [
        "X = df_balanced[predictors].values\r\n",
        "\r\n",
        "y = df_balanced['Attrition_Flag'].values.astype(int)\r\n",
        "\r\n",
        "X_train, X_test, y_train, y_test = train_test_split(X, y, test_size=0.25, random_state=42)"
      ],
      "execution_count": 617,
      "outputs": []
    },
    {
      "cell_type": "markdown",
      "metadata": {
        "id": "Hv3D1P3pn4AJ"
      },
      "source": [
        "Training the model with the training data and using the decision tree classification algorithm."
      ]
    },
    {
      "cell_type": "code",
      "metadata": {
        "colab": {
          "base_uri": "https://localhost:8080/"
        },
        "id": "n7sKWRNyn14A",
        "outputId": "ff021c82-33fe-4219-b791-740de43b258b"
      },
      "source": [
        "clf = DecisionTreeClassifier(max_depth=3)\r\n",
        "clf.fit(X_train, y_train)"
      ],
      "execution_count": 618,
      "outputs": [
        {
          "output_type": "execute_result",
          "data": {
            "text/plain": [
              "DecisionTreeClassifier(ccp_alpha=0.0, class_weight=None, criterion='gini',\n",
              "                       max_depth=3, max_features=None, max_leaf_nodes=None,\n",
              "                       min_impurity_decrease=0.0, min_impurity_split=None,\n",
              "                       min_samples_leaf=1, min_samples_split=2,\n",
              "                       min_weight_fraction_leaf=0.0, presort='deprecated',\n",
              "                       random_state=None, splitter='best')"
            ]
          },
          "metadata": {
            "tags": []
          },
          "execution_count": 618
        }
      ]
    },
    {
      "cell_type": "markdown",
      "metadata": {
        "id": "gJlhkz7poBFZ"
      },
      "source": [
        "Plotting the decision tree"
      ]
    },
    {
      "cell_type": "code",
      "metadata": {
        "colab": {
          "base_uri": "https://localhost:8080/",
          "height": 618
        },
        "id": "CRHHrQACoEdO",
        "outputId": "d9d372b2-5e77-4aed-9780-aba87a7d1e4f"
      },
      "source": [
        "target_names = ['Existing Customer','Attrited Customer']\r\n",
        "dot_data = export_graphviz(clf, precision=2,\r\n",
        "feature_names=predictors,\r\n",
        "proportion=True,\r\n",
        "class_names=target_names,\r\n",
        "filled=True, rounded=True,\r\n",
        "special_characters=True)\r\n",
        "graph = graphviz.Source(dot_data)\r\n",
        "graph"
      ],
      "execution_count": 619,
      "outputs": [
        {
          "output_type": "execute_result",
          "data": {
            "text/plain": [
              "<graphviz.files.Source at 0x7fef72c65c88>"
            ],
            "image/svg+xml": "<?xml version=\"1.0\" encoding=\"UTF-8\" standalone=\"no\"?>\n<!DOCTYPE svg PUBLIC \"-//W3C//DTD SVG 1.1//EN\"\n \"http://www.w3.org/Graphics/SVG/1.1/DTD/svg11.dtd\">\n<!-- Generated by graphviz version 2.40.1 (20161225.0304)\n -->\n<!-- Title: Tree Pages: 1 -->\n<svg width=\"1581pt\" height=\"433pt\"\n viewBox=\"0.00 0.00 1580.50 433.00\" xmlns=\"http://www.w3.org/2000/svg\" xmlns:xlink=\"http://www.w3.org/1999/xlink\">\n<g id=\"graph0\" class=\"graph\" transform=\"scale(1 1) rotate(0) translate(4 429)\">\n<title>Tree</title>\n<polygon fill=\"#ffffff\" stroke=\"transparent\" points=\"-4,4 -4,-429 1576.5,-429 1576.5,4 -4,4\"/>\n<!-- 0 -->\n<g id=\"node1\" class=\"node\">\n<title>0</title>\n<path fill=\"#fafdfe\" stroke=\"#000000\" d=\"M861.5,-425C861.5,-425 708.5,-425 708.5,-425 702.5,-425 696.5,-419 696.5,-413 696.5,-413 696.5,-354 696.5,-354 696.5,-348 702.5,-342 708.5,-342 708.5,-342 861.5,-342 861.5,-342 867.5,-342 873.5,-348 873.5,-354 873.5,-354 873.5,-413 873.5,-413 873.5,-419 867.5,-425 861.5,-425\"/>\n<text text-anchor=\"start\" x=\"714\" y=\"-409.8\" font-family=\"Helvetica,sans-Serif\" font-size=\"14.00\" fill=\"#000000\">Total_Trans_Ct ≤ 57.5</text>\n<text text-anchor=\"start\" x=\"755.5\" y=\"-394.8\" font-family=\"Helvetica,sans-Serif\" font-size=\"14.00\" fill=\"#000000\">gini = 0.5</text>\n<text text-anchor=\"start\" x=\"724.5\" y=\"-379.8\" font-family=\"Helvetica,sans-Serif\" font-size=\"14.00\" fill=\"#000000\">samples = 100.0%</text>\n<text text-anchor=\"start\" x=\"723\" y=\"-364.8\" font-family=\"Helvetica,sans-Serif\" font-size=\"14.00\" fill=\"#000000\">value = [0.49, 0.51]</text>\n<text text-anchor=\"start\" x=\"704.5\" y=\"-349.8\" font-family=\"Helvetica,sans-Serif\" font-size=\"14.00\" fill=\"#000000\">class = Attrited Customer</text>\n</g>\n<!-- 1 -->\n<g id=\"node2\" class=\"node\">\n<title>1</title>\n<path fill=\"#eead7e\" stroke=\"#000000\" d=\"M676,-306C676,-306 502,-306 502,-306 496,-306 490,-300 490,-294 490,-294 490,-235 490,-235 490,-229 496,-223 502,-223 502,-223 676,-223 676,-223 682,-223 688,-229 688,-235 688,-235 688,-294 688,-294 688,-300 682,-306 676,-306\"/>\n<text text-anchor=\"start\" x=\"498\" y=\"-290.8\" font-family=\"Helvetica,sans-Serif\" font-size=\"14.00\" fill=\"#000000\">Avg_Utilization_Ratio ≤ 0.03</text>\n<text text-anchor=\"start\" x=\"555.5\" y=\"-275.8\" font-family=\"Helvetica,sans-Serif\" font-size=\"14.00\" fill=\"#000000\">gini = 0.38</text>\n<text text-anchor=\"start\" x=\"533\" y=\"-260.8\" font-family=\"Helvetica,sans-Serif\" font-size=\"14.00\" fill=\"#000000\">samples = 55.6%</text>\n<text text-anchor=\"start\" x=\"527\" y=\"-245.8\" font-family=\"Helvetica,sans-Serif\" font-size=\"14.00\" fill=\"#000000\">value = [0.74, 0.26]</text>\n<text text-anchor=\"start\" x=\"505\" y=\"-230.8\" font-family=\"Helvetica,sans-Serif\" font-size=\"14.00\" fill=\"#000000\">class = Existing Customer</text>\n</g>\n<!-- 0&#45;&gt;1 -->\n<g id=\"edge1\" class=\"edge\">\n<title>0&#45;&gt;1</title>\n<path fill=\"none\" stroke=\"#000000\" d=\"M716.4487,-341.8796C700.1857,-332.0056 682.7299,-321.4075 666.1142,-311.3193\"/>\n<polygon fill=\"#000000\" stroke=\"#000000\" points=\"667.8769,-308.295 657.5126,-306.0969 664.244,-314.2785 667.8769,-308.295\"/>\n<text text-anchor=\"middle\" x=\"663.4489\" y=\"-326.6819\" font-family=\"Helvetica,sans-Serif\" font-size=\"14.00\" fill=\"#000000\">True</text>\n</g>\n<!-- 8 -->\n<g id=\"node9\" class=\"node\">\n<title>8</title>\n<path fill=\"#66b3eb\" stroke=\"#000000\" d=\"M1069,-306C1069,-306 907,-306 907,-306 901,-306 895,-300 895,-294 895,-294 895,-235 895,-235 895,-229 901,-223 907,-223 907,-223 1069,-223 1069,-223 1075,-223 1081,-229 1081,-235 1081,-235 1081,-294 1081,-294 1081,-300 1075,-306 1069,-306\"/>\n<text text-anchor=\"start\" x=\"903\" y=\"-290.8\" font-family=\"Helvetica,sans-Serif\" font-size=\"14.00\" fill=\"#000000\">Total_Trans_Amt ≤ 5415.5</text>\n<text text-anchor=\"start\" x=\"958.5\" y=\"-275.8\" font-family=\"Helvetica,sans-Serif\" font-size=\"14.00\" fill=\"#000000\">gini = 0.3</text>\n<text text-anchor=\"start\" x=\"932\" y=\"-260.8\" font-family=\"Helvetica,sans-Serif\" font-size=\"14.00\" fill=\"#000000\">samples = 44.4%</text>\n<text text-anchor=\"start\" x=\"926\" y=\"-245.8\" font-family=\"Helvetica,sans-Serif\" font-size=\"14.00\" fill=\"#000000\">value = [0.18, 0.82]</text>\n<text text-anchor=\"start\" x=\"907.5\" y=\"-230.8\" font-family=\"Helvetica,sans-Serif\" font-size=\"14.00\" fill=\"#000000\">class = Attrited Customer</text>\n</g>\n<!-- 0&#45;&gt;8 -->\n<g id=\"edge8\" class=\"edge\">\n<title>0&#45;&gt;8</title>\n<path fill=\"none\" stroke=\"#000000\" d=\"M855.9995,-341.8796C872.8434,-332.0056 890.9226,-321.4075 908.1317,-311.3193\"/>\n<polygon fill=\"#000000\" stroke=\"#000000\" points=\"910.1836,-314.1736 917.0405,-306.0969 906.6435,-308.1347 910.1836,-314.1736\"/>\n<text text-anchor=\"middle\" x=\"910.73\" y=\"-326.5874\" font-family=\"Helvetica,sans-Serif\" font-size=\"14.00\" fill=\"#000000\">False</text>\n</g>\n<!-- 2 -->\n<g id=\"node3\" class=\"node\">\n<title>2</title>\n<path fill=\"#e78d4b\" stroke=\"#000000\" d=\"M375,-187C375,-187 213,-187 213,-187 207,-187 201,-181 201,-175 201,-175 201,-116 201,-116 201,-110 207,-104 213,-104 213,-104 375,-104 375,-104 381,-104 387,-110 387,-116 387,-116 387,-175 387,-175 387,-181 381,-187 375,-187\"/>\n<text text-anchor=\"start\" x=\"209\" y=\"-171.8\" font-family=\"Helvetica,sans-Serif\" font-size=\"14.00\" fill=\"#000000\">Total_Trans_Amt ≤ 1897.5</text>\n<text text-anchor=\"start\" x=\"260.5\" y=\"-156.8\" font-family=\"Helvetica,sans-Serif\" font-size=\"14.00\" fill=\"#000000\">gini = 0.15</text>\n<text text-anchor=\"start\" x=\"238\" y=\"-141.8\" font-family=\"Helvetica,sans-Serif\" font-size=\"14.00\" fill=\"#000000\">samples = 26.3%</text>\n<text text-anchor=\"start\" x=\"232\" y=\"-126.8\" font-family=\"Helvetica,sans-Serif\" font-size=\"14.00\" fill=\"#000000\">value = [0.92, 0.08]</text>\n<text text-anchor=\"start\" x=\"210\" y=\"-111.8\" font-family=\"Helvetica,sans-Serif\" font-size=\"14.00\" fill=\"#000000\">class = Existing Customer</text>\n</g>\n<!-- 1&#45;&gt;2 -->\n<g id=\"edge2\" class=\"edge\">\n<title>1&#45;&gt;2</title>\n<path fill=\"none\" stroke=\"#000000\" d=\"M489.9486,-224.5437C459.9137,-212.4279 426.8637,-199.0958 396.601,-186.8882\"/>\n<polygon fill=\"#000000\" stroke=\"#000000\" points=\"397.8883,-183.6335 387.305,-183.1383 395.2696,-190.1252 397.8883,-183.6335\"/>\n</g>\n<!-- 5 -->\n<g id=\"node6\" class=\"node\">\n<title>5</title>\n<path fill=\"#f8dbc6\" stroke=\"#000000\" d=\"M670,-187C670,-187 508,-187 508,-187 502,-187 496,-181 496,-175 496,-175 496,-116 496,-116 496,-110 502,-104 508,-104 508,-104 670,-104 670,-104 676,-104 682,-110 682,-116 682,-116 682,-175 682,-175 682,-181 676,-187 670,-187\"/>\n<text text-anchor=\"start\" x=\"504\" y=\"-171.8\" font-family=\"Helvetica,sans-Serif\" font-size=\"14.00\" fill=\"#000000\">Total_Trans_Amt ≤ 2009.0</text>\n<text text-anchor=\"start\" x=\"555.5\" y=\"-156.8\" font-family=\"Helvetica,sans-Serif\" font-size=\"14.00\" fill=\"#000000\">gini = 0.49</text>\n<text text-anchor=\"start\" x=\"533\" y=\"-141.8\" font-family=\"Helvetica,sans-Serif\" font-size=\"14.00\" fill=\"#000000\">samples = 29.3%</text>\n<text text-anchor=\"start\" x=\"527\" y=\"-126.8\" font-family=\"Helvetica,sans-Serif\" font-size=\"14.00\" fill=\"#000000\">value = [0.58, 0.42]</text>\n<text text-anchor=\"start\" x=\"505\" y=\"-111.8\" font-family=\"Helvetica,sans-Serif\" font-size=\"14.00\" fill=\"#000000\">class = Existing Customer</text>\n</g>\n<!-- 1&#45;&gt;5 -->\n<g id=\"edge5\" class=\"edge\">\n<title>1&#45;&gt;5</title>\n<path fill=\"none\" stroke=\"#000000\" d=\"M589,-222.8796C589,-214.6838 589,-205.9891 589,-197.5013\"/>\n<polygon fill=\"#000000\" stroke=\"#000000\" points=\"592.5001,-197.298 589,-187.2981 585.5001,-197.2981 592.5001,-197.298\"/>\n</g>\n<!-- 3 -->\n<g id=\"node4\" class=\"node\">\n<title>3</title>\n<path fill=\"#ea985d\" stroke=\"#000000\" d=\"M172,-68C172,-68 12,-68 12,-68 6,-68 0,-62 0,-56 0,-56 0,-12 0,-12 0,-6 6,0 12,0 12,0 172,0 172,0 178,0 184,-6 184,-12 184,-12 184,-56 184,-56 184,-62 178,-68 172,-68\"/>\n<text text-anchor=\"start\" x=\"58.5\" y=\"-52.8\" font-family=\"Helvetica,sans-Serif\" font-size=\"14.00\" fill=\"#000000\">gini = 0.26</text>\n<text text-anchor=\"start\" x=\"40\" y=\"-37.8\" font-family=\"Helvetica,sans-Serif\" font-size=\"14.00\" fill=\"#000000\">samples = 8.8%</text>\n<text text-anchor=\"start\" x=\"30\" y=\"-22.8\" font-family=\"Helvetica,sans-Serif\" font-size=\"14.00\" fill=\"#000000\">value = [0.85, 0.15]</text>\n<text text-anchor=\"start\" x=\"8\" y=\"-7.8\" font-family=\"Helvetica,sans-Serif\" font-size=\"14.00\" fill=\"#000000\">class = Existing Customer</text>\n</g>\n<!-- 2&#45;&gt;3 -->\n<g id=\"edge3\" class=\"edge\">\n<title>2&#45;&gt;3</title>\n<path fill=\"none\" stroke=\"#000000\" d=\"M218.7827,-103.9815C200.3709,-93.8186 180.734,-82.9794 162.5499,-72.9421\"/>\n<polygon fill=\"#000000\" stroke=\"#000000\" points=\"164.1978,-69.854 153.7515,-68.0856 160.815,-75.9824 164.1978,-69.854\"/>\n</g>\n<!-- 4 -->\n<g id=\"node5\" class=\"node\">\n<title>4</title>\n<path fill=\"#e68843\" stroke=\"#000000\" d=\"M374,-68C374,-68 214,-68 214,-68 208,-68 202,-62 202,-56 202,-56 202,-12 202,-12 202,-6 208,0 214,0 214,0 374,0 374,0 380,0 386,-6 386,-12 386,-12 386,-56 386,-56 386,-62 380,-68 374,-68\"/>\n<text text-anchor=\"start\" x=\"260.5\" y=\"-52.8\" font-family=\"Helvetica,sans-Serif\" font-size=\"14.00\" fill=\"#000000\">gini = 0.09</text>\n<text text-anchor=\"start\" x=\"238\" y=\"-37.8\" font-family=\"Helvetica,sans-Serif\" font-size=\"14.00\" fill=\"#000000\">samples = 17.5%</text>\n<text text-anchor=\"start\" x=\"232\" y=\"-22.8\" font-family=\"Helvetica,sans-Serif\" font-size=\"14.00\" fill=\"#000000\">value = [0.95, 0.05]</text>\n<text text-anchor=\"start\" x=\"210\" y=\"-7.8\" font-family=\"Helvetica,sans-Serif\" font-size=\"14.00\" fill=\"#000000\">class = Existing Customer</text>\n</g>\n<!-- 2&#45;&gt;4 -->\n<g id=\"edge4\" class=\"edge\">\n<title>2&#45;&gt;4</title>\n<path fill=\"none\" stroke=\"#000000\" d=\"M294,-103.9815C294,-95.618 294,-86.7965 294,-78.3409\"/>\n<polygon fill=\"#000000\" stroke=\"#000000\" points=\"297.5001,-78.2636 294,-68.2637 290.5001,-78.2637 297.5001,-78.2636\"/>\n</g>\n<!-- 6 -->\n<g id=\"node7\" class=\"node\">\n<title>6</title>\n<path fill=\"#b5daf5\" stroke=\"#000000\" d=\"M569.5,-68C569.5,-68 416.5,-68 416.5,-68 410.5,-68 404.5,-62 404.5,-56 404.5,-56 404.5,-12 404.5,-12 404.5,-6 410.5,0 416.5,0 416.5,0 569.5,0 569.5,0 575.5,0 581.5,-6 581.5,-12 581.5,-12 581.5,-56 581.5,-56 581.5,-62 575.5,-68 569.5,-68\"/>\n<text text-anchor=\"start\" x=\"459.5\" y=\"-52.8\" font-family=\"Helvetica,sans-Serif\" font-size=\"14.00\" fill=\"#000000\">gini = 0.47</text>\n<text text-anchor=\"start\" x=\"437\" y=\"-37.8\" font-family=\"Helvetica,sans-Serif\" font-size=\"14.00\" fill=\"#000000\">samples = 14.5%</text>\n<text text-anchor=\"start\" x=\"431\" y=\"-22.8\" font-family=\"Helvetica,sans-Serif\" font-size=\"14.00\" fill=\"#000000\">value = [0.38, 0.62]</text>\n<text text-anchor=\"start\" x=\"412.5\" y=\"-7.8\" font-family=\"Helvetica,sans-Serif\" font-size=\"14.00\" fill=\"#000000\">class = Attrited Customer</text>\n</g>\n<!-- 5&#45;&gt;6 -->\n<g id=\"edge6\" class=\"edge\">\n<title>5&#45;&gt;6</title>\n<path fill=\"none\" stroke=\"#000000\" d=\"M553.2531,-103.9815C545.3401,-94.7908 536.9509,-85.0472 529.0268,-75.8436\"/>\n<polygon fill=\"#000000\" stroke=\"#000000\" points=\"531.6776,-73.5582 522.5006,-68.2637 526.3729,-78.1255 531.6776,-73.5582\"/>\n</g>\n<!-- 7 -->\n<g id=\"node8\" class=\"node\">\n<title>7</title>\n<path fill=\"#eca572\" stroke=\"#000000\" d=\"M772,-68C772,-68 612,-68 612,-68 606,-68 600,-62 600,-56 600,-56 600,-12 600,-12 600,-6 606,0 612,0 612,0 772,0 772,0 778,0 784,-6 784,-12 784,-12 784,-56 784,-56 784,-62 778,-68 772,-68\"/>\n<text text-anchor=\"start\" x=\"658.5\" y=\"-52.8\" font-family=\"Helvetica,sans-Serif\" font-size=\"14.00\" fill=\"#000000\">gini = 0.35</text>\n<text text-anchor=\"start\" x=\"636\" y=\"-37.8\" font-family=\"Helvetica,sans-Serif\" font-size=\"14.00\" fill=\"#000000\">samples = 14.8%</text>\n<text text-anchor=\"start\" x=\"630\" y=\"-22.8\" font-family=\"Helvetica,sans-Serif\" font-size=\"14.00\" fill=\"#000000\">value = [0.78, 0.22]</text>\n<text text-anchor=\"start\" x=\"608\" y=\"-7.8\" font-family=\"Helvetica,sans-Serif\" font-size=\"14.00\" fill=\"#000000\">class = Existing Customer</text>\n</g>\n<!-- 5&#45;&gt;7 -->\n<g id=\"edge7\" class=\"edge\">\n<title>5&#45;&gt;7</title>\n<path fill=\"none\" stroke=\"#000000\" d=\"M627.3534,-103.9815C635.8434,-94.7908 644.8443,-85.0472 653.3463,-75.8436\"/>\n<polygon fill=\"#000000\" stroke=\"#000000\" points=\"656.1337,-77.9842 660.3484,-68.2637 650.9919,-73.2343 656.1337,-77.9842\"/>\n</g>\n<!-- 9 -->\n<g id=\"node10\" class=\"node\">\n<title>9</title>\n<path fill=\"#43a2e6\" stroke=\"#000000\" d=\"M1064.5,-187C1064.5,-187 911.5,-187 911.5,-187 905.5,-187 899.5,-181 899.5,-175 899.5,-175 899.5,-116 899.5,-116 899.5,-110 905.5,-104 911.5,-104 911.5,-104 1064.5,-104 1064.5,-104 1070.5,-104 1076.5,-110 1076.5,-116 1076.5,-116 1076.5,-175 1076.5,-175 1076.5,-181 1070.5,-187 1064.5,-187\"/>\n<text text-anchor=\"start\" x=\"917\" y=\"-171.8\" font-family=\"Helvetica,sans-Serif\" font-size=\"14.00\" fill=\"#000000\">Total_Trans_Ct ≤ 63.5</text>\n<text text-anchor=\"start\" x=\"954.5\" y=\"-156.8\" font-family=\"Helvetica,sans-Serif\" font-size=\"14.00\" fill=\"#000000\">gini = 0.09</text>\n<text text-anchor=\"start\" x=\"932\" y=\"-141.8\" font-family=\"Helvetica,sans-Serif\" font-size=\"14.00\" fill=\"#000000\">samples = 30.3%</text>\n<text text-anchor=\"start\" x=\"926\" y=\"-126.8\" font-family=\"Helvetica,sans-Serif\" font-size=\"14.00\" fill=\"#000000\">value = [0.05, 0.95]</text>\n<text text-anchor=\"start\" x=\"907.5\" y=\"-111.8\" font-family=\"Helvetica,sans-Serif\" font-size=\"14.00\" fill=\"#000000\">class = Attrited Customer</text>\n</g>\n<!-- 8&#45;&gt;9 -->\n<g id=\"edge9\" class=\"edge\">\n<title>8&#45;&gt;9</title>\n<path fill=\"none\" stroke=\"#000000\" d=\"M988,-222.8796C988,-214.6838 988,-205.9891 988,-197.5013\"/>\n<polygon fill=\"#000000\" stroke=\"#000000\" points=\"991.5001,-197.298 988,-187.2981 984.5001,-197.2981 991.5001,-197.298\"/>\n</g>\n<!-- 12 -->\n<g id=\"node13\" class=\"node\">\n<title>12</title>\n<path fill=\"#f1f8fd\" stroke=\"#000000\" d=\"M1361.5,-187C1361.5,-187 1208.5,-187 1208.5,-187 1202.5,-187 1196.5,-181 1196.5,-175 1196.5,-175 1196.5,-116 1196.5,-116 1196.5,-110 1202.5,-104 1208.5,-104 1208.5,-104 1361.5,-104 1361.5,-104 1367.5,-104 1373.5,-110 1373.5,-116 1373.5,-116 1373.5,-175 1373.5,-175 1373.5,-181 1367.5,-187 1361.5,-187\"/>\n<text text-anchor=\"start\" x=\"1214\" y=\"-171.8\" font-family=\"Helvetica,sans-Serif\" font-size=\"14.00\" fill=\"#000000\">Total_Trans_Ct ≤ 81.5</text>\n<text text-anchor=\"start\" x=\"1255.5\" y=\"-156.8\" font-family=\"Helvetica,sans-Serif\" font-size=\"14.00\" fill=\"#000000\">gini = 0.5</text>\n<text text-anchor=\"start\" x=\"1229\" y=\"-141.8\" font-family=\"Helvetica,sans-Serif\" font-size=\"14.00\" fill=\"#000000\">samples = 14.1%</text>\n<text text-anchor=\"start\" x=\"1223\" y=\"-126.8\" font-family=\"Helvetica,sans-Serif\" font-size=\"14.00\" fill=\"#000000\">value = [0.48, 0.52]</text>\n<text text-anchor=\"start\" x=\"1204.5\" y=\"-111.8\" font-family=\"Helvetica,sans-Serif\" font-size=\"14.00\" fill=\"#000000\">class = Attrited Customer</text>\n</g>\n<!-- 8&#45;&gt;12 -->\n<g id=\"edge12\" class=\"edge\">\n<title>8&#45;&gt;12</title>\n<path fill=\"none\" stroke=\"#000000\" d=\"M1081.1578,-227.1742C1114.8232,-213.6853 1152.9168,-198.4222 1186.9861,-184.7715\"/>\n<polygon fill=\"#000000\" stroke=\"#000000\" points=\"1188.5009,-187.9352 1196.4817,-180.9669 1185.8973,-181.4374 1188.5009,-187.9352\"/>\n</g>\n<!-- 10 -->\n<g id=\"node11\" class=\"node\">\n<title>10</title>\n<path fill=\"#74baed\" stroke=\"#000000\" d=\"M967.5,-68C967.5,-68 814.5,-68 814.5,-68 808.5,-68 802.5,-62 802.5,-56 802.5,-56 802.5,-12 802.5,-12 802.5,-6 808.5,0 814.5,0 814.5,0 967.5,0 967.5,0 973.5,0 979.5,-6 979.5,-12 979.5,-12 979.5,-56 979.5,-56 979.5,-62 973.5,-68 967.5,-68\"/>\n<text text-anchor=\"start\" x=\"857.5\" y=\"-52.8\" font-family=\"Helvetica,sans-Serif\" font-size=\"14.00\" fill=\"#000000\">gini = 0.35</text>\n<text text-anchor=\"start\" x=\"839\" y=\"-37.8\" font-family=\"Helvetica,sans-Serif\" font-size=\"14.00\" fill=\"#000000\">samples = 4.8%</text>\n<text text-anchor=\"start\" x=\"829\" y=\"-22.8\" font-family=\"Helvetica,sans-Serif\" font-size=\"14.00\" fill=\"#000000\">value = [0.23, 0.77]</text>\n<text text-anchor=\"start\" x=\"810.5\" y=\"-7.8\" font-family=\"Helvetica,sans-Serif\" font-size=\"14.00\" fill=\"#000000\">class = Attrited Customer</text>\n</g>\n<!-- 9&#45;&gt;10 -->\n<g id=\"edge10\" class=\"edge\">\n<title>9&#45;&gt;10</title>\n<path fill=\"none\" stroke=\"#000000\" d=\"M951.8808,-103.9815C943.8853,-94.7908 935.4087,-85.0472 927.4021,-75.8436\"/>\n<polygon fill=\"#000000\" stroke=\"#000000\" points=\"930.012,-73.5111 920.8079,-68.2637 924.7307,-78.1055 930.012,-73.5111\"/>\n</g>\n<!-- 11 -->\n<g id=\"node12\" class=\"node\">\n<title>11</title>\n<path fill=\"#3b9ee5\" stroke=\"#000000\" d=\"M1162.5,-68C1162.5,-68 1009.5,-68 1009.5,-68 1003.5,-68 997.5,-62 997.5,-56 997.5,-56 997.5,-12 997.5,-12 997.5,-6 1003.5,0 1009.5,0 1009.5,0 1162.5,0 1162.5,0 1168.5,0 1174.5,-6 1174.5,-12 1174.5,-12 1174.5,-56 1174.5,-56 1174.5,-62 1168.5,-68 1162.5,-68\"/>\n<text text-anchor=\"start\" x=\"1052.5\" y=\"-52.8\" font-family=\"Helvetica,sans-Serif\" font-size=\"14.00\" fill=\"#000000\">gini = 0.02</text>\n<text text-anchor=\"start\" x=\"1030\" y=\"-37.8\" font-family=\"Helvetica,sans-Serif\" font-size=\"14.00\" fill=\"#000000\">samples = 25.5%</text>\n<text text-anchor=\"start\" x=\"1024\" y=\"-22.8\" font-family=\"Helvetica,sans-Serif\" font-size=\"14.00\" fill=\"#000000\">value = [0.01, 0.99]</text>\n<text text-anchor=\"start\" x=\"1005.5\" y=\"-7.8\" font-family=\"Helvetica,sans-Serif\" font-size=\"14.00\" fill=\"#000000\">class = Attrited Customer</text>\n</g>\n<!-- 9&#45;&gt;11 -->\n<g id=\"edge11\" class=\"edge\">\n<title>9&#45;&gt;11</title>\n<path fill=\"none\" stroke=\"#000000\" d=\"M1024.4916,-103.9815C1032.5695,-94.7908 1041.1334,-85.0472 1049.2226,-75.8436\"/>\n<polygon fill=\"#000000\" stroke=\"#000000\" points=\"1051.912,-78.0855 1055.8848,-68.2637 1046.6542,-73.4642 1051.912,-78.0855\"/>\n</g>\n<!-- 13 -->\n<g id=\"node14\" class=\"node\">\n<title>13</title>\n<path fill=\"#e78d4c\" stroke=\"#000000\" d=\"M1365,-68C1365,-68 1205,-68 1205,-68 1199,-68 1193,-62 1193,-56 1193,-56 1193,-12 1193,-12 1193,-6 1199,0 1205,0 1205,0 1365,0 1365,0 1371,0 1377,-6 1377,-12 1377,-12 1377,-56 1377,-56 1377,-62 1371,-68 1365,-68\"/>\n<text text-anchor=\"start\" x=\"1251.5\" y=\"-52.8\" font-family=\"Helvetica,sans-Serif\" font-size=\"14.00\" fill=\"#000000\">gini = 0.16</text>\n<text text-anchor=\"start\" x=\"1233\" y=\"-37.8\" font-family=\"Helvetica,sans-Serif\" font-size=\"14.00\" fill=\"#000000\">samples = 6.6%</text>\n<text text-anchor=\"start\" x=\"1223\" y=\"-22.8\" font-family=\"Helvetica,sans-Serif\" font-size=\"14.00\" fill=\"#000000\">value = [0.91, 0.09]</text>\n<text text-anchor=\"start\" x=\"1201\" y=\"-7.8\" font-family=\"Helvetica,sans-Serif\" font-size=\"14.00\" fill=\"#000000\">class = Existing Customer</text>\n</g>\n<!-- 12&#45;&gt;13 -->\n<g id=\"edge13\" class=\"edge\">\n<title>12&#45;&gt;13</title>\n<path fill=\"none\" stroke=\"#000000\" d=\"M1285,-103.9815C1285,-95.618 1285,-86.7965 1285,-78.3409\"/>\n<polygon fill=\"#000000\" stroke=\"#000000\" points=\"1288.5001,-78.2636 1285,-68.2637 1281.5001,-78.2637 1288.5001,-78.2636\"/>\n</g>\n<!-- 14 -->\n<g id=\"node15\" class=\"node\">\n<title>14</title>\n<path fill=\"#4fa8e8\" stroke=\"#000000\" d=\"M1560.5,-68C1560.5,-68 1407.5,-68 1407.5,-68 1401.5,-68 1395.5,-62 1395.5,-56 1395.5,-56 1395.5,-12 1395.5,-12 1395.5,-6 1401.5,0 1407.5,0 1407.5,0 1560.5,0 1560.5,0 1566.5,0 1572.5,-6 1572.5,-12 1572.5,-12 1572.5,-56 1572.5,-56 1572.5,-62 1566.5,-68 1560.5,-68\"/>\n<text text-anchor=\"start\" x=\"1450.5\" y=\"-52.8\" font-family=\"Helvetica,sans-Serif\" font-size=\"14.00\" fill=\"#000000\">gini = 0.18</text>\n<text text-anchor=\"start\" x=\"1432\" y=\"-37.8\" font-family=\"Helvetica,sans-Serif\" font-size=\"14.00\" fill=\"#000000\">samples = 7.5%</text>\n<text text-anchor=\"start\" x=\"1430.5\" y=\"-22.8\" font-family=\"Helvetica,sans-Serif\" font-size=\"14.00\" fill=\"#000000\">value = [0.1, 0.9]</text>\n<text text-anchor=\"start\" x=\"1403.5\" y=\"-7.8\" font-family=\"Helvetica,sans-Serif\" font-size=\"14.00\" fill=\"#000000\">class = Attrited Customer</text>\n</g>\n<!-- 12&#45;&gt;14 -->\n<g id=\"edge14\" class=\"edge\">\n<title>12&#45;&gt;14</title>\n<path fill=\"none\" stroke=\"#000000\" d=\"M1359.1003,-103.9815C1377.0737,-93.911 1396.2322,-83.1764 1414.009,-73.2161\"/>\n<polygon fill=\"#000000\" stroke=\"#000000\" points=\"1416.1524,-76.0271 1423.1656,-68.0856 1412.7308,-69.9203 1416.1524,-76.0271\"/>\n</g>\n</g>\n</svg>\n"
          },
          "metadata": {
            "tags": []
          },
          "execution_count": 619
        }
      ]
    },
    {
      "cell_type": "markdown",
      "metadata": {
        "id": "koK1hZVAsPVw"
      },
      "source": [
        "Measuring the accuracy of the model."
      ]
    },
    {
      "cell_type": "code",
      "metadata": {
        "colab": {
          "base_uri": "https://localhost:8080/"
        },
        "id": "b1LIPydYoecY",
        "outputId": "c8c89e4f-f50d-4cea-c922-2646d45c081a"
      },
      "source": [
        "predicts = clf.predict(X_test)\r\n",
        "(predicts == y_test).mean()"
      ],
      "execution_count": 620,
      "outputs": [
        {
          "output_type": "execute_result",
          "data": {
            "text/plain": [
              "0.8628235294117647"
            ]
          },
          "metadata": {
            "tags": []
          },
          "execution_count": 620
        }
      ]
    },
    {
      "cell_type": "markdown",
      "metadata": {
        "id": "VPPzcQ3ssS32"
      },
      "source": [
        "As we saw the accuracy of the model is pretty high, let's see what features affect predictions the most."
      ]
    },
    {
      "cell_type": "code",
      "metadata": {
        "colab": {
          "base_uri": "https://localhost:8080/"
        },
        "id": "G5du7oG8r7dQ",
        "outputId": "078e38ae-96ba-4099-9887-7c2ded789977"
      },
      "source": [
        "clf.feature_importances_"
      ],
      "execution_count": 621,
      "outputs": [
        {
          "output_type": "execute_result",
          "data": {
            "text/plain": [
              "array([0.        , 0.20579   , 0.68994205, 0.10426795])"
            ]
          },
          "metadata": {
            "tags": []
          },
          "execution_count": 621
        }
      ]
    },
    {
      "cell_type": "markdown",
      "metadata": {
        "id": "3bfohotoshU3"
      },
      "source": [
        "Making a confusion matrixf using the test and predicted data."
      ]
    },
    {
      "cell_type": "code",
      "metadata": {
        "colab": {
          "base_uri": "https://localhost:8080/"
        },
        "id": "-rGvn4z5sIG-",
        "outputId": "3295a200-2ebe-4269-c70e-1958b75fb49c"
      },
      "source": [
        "matrix = confusion_matrix(y_test, predicts)\r\n",
        "matrix"
      ],
      "execution_count": 622,
      "outputs": [
        {
          "output_type": "execute_result",
          "data": {
            "text/plain": [
              "array([[1850,  355],\n",
              "       [ 228, 1817]])"
            ]
          },
          "metadata": {
            "tags": []
          },
          "execution_count": 622
        }
      ]
    },
    {
      "cell_type": "markdown",
      "metadata": {
        "id": "kEolUdn3s-wg"
      },
      "source": [
        "## Model 3: Using Naive Bayes (Unbalanced)\r\n"
      ]
    },
    {
      "cell_type": "markdown",
      "metadata": {
        "id": "4FdVtKz_tvGq"
      },
      "source": [
        "Selecting the predictor features."
      ]
    },
    {
      "cell_type": "code",
      "metadata": {
        "id": "cto_ks9OtCFc"
      },
      "source": [
        "predictors = ['Total_Trans_Amt', 'Total_Trans_Ct', 'Avg_Utilization_Ratio']\r\n",
        "predictors.append('Total_Revolving_Bal')"
      ],
      "execution_count": 623,
      "outputs": []
    },
    {
      "cell_type": "markdown",
      "metadata": {
        "id": "F3gG5laJty_m"
      },
      "source": [
        "Splitting the data for training and testing."
      ]
    },
    {
      "cell_type": "code",
      "metadata": {
        "id": "0r2UxlA0tr_I"
      },
      "source": [
        "X = df[predictors].values\r\n",
        "\r\n",
        "y = df['Attrition_Flag'].values.astype(int)\r\n",
        "\r\n",
        "X_train, X_test, y_train, y_test = train_test_split(X, y, test_size=0.25, random_state=42)"
      ],
      "execution_count": 624,
      "outputs": []
    },
    {
      "cell_type": "markdown",
      "metadata": {
        "id": "Q_jgLVpyt4v_"
      },
      "source": [
        "Training the Naive Bayes classification model."
      ]
    },
    {
      "cell_type": "code",
      "metadata": {
        "colab": {
          "base_uri": "https://localhost:8080/"
        },
        "id": "DNd9178BuEY4",
        "outputId": "ef55a1fe-165a-4ed6-f609-308922599302"
      },
      "source": [
        "clf = CategoricalNB()\r\n",
        "clf.fit(X_train, y_train)"
      ],
      "execution_count": 625,
      "outputs": [
        {
          "output_type": "execute_result",
          "data": {
            "text/plain": [
              "CategoricalNB(alpha=1.0, class_prior=None, fit_prior=True)"
            ]
          },
          "metadata": {
            "tags": []
          },
          "execution_count": 625
        }
      ]
    },
    {
      "cell_type": "markdown",
      "metadata": {
        "id": "tlwuzE6tb01O"
      },
      "source": [
        "Testing the accuracy of the predictions using the test data"
      ]
    },
    {
      "cell_type": "code",
      "metadata": {
        "colab": {
          "base_uri": "https://localhost:8080/"
        },
        "id": "JKhc2mc1uTgr",
        "outputId": "f1b7eeca-b52a-4dd5-8577-034f2efc19d6"
      },
      "source": [
        "y_pred = clf.predict(X_test)\r\n",
        "(y_pred == y_test).mean()"
      ],
      "execution_count": 626,
      "outputs": [
        {
          "output_type": "execute_result",
          "data": {
            "text/plain": [
              "0.8621642969984202"
            ]
          },
          "metadata": {
            "tags": []
          },
          "execution_count": 626
        }
      ]
    },
    {
      "cell_type": "markdown",
      "metadata": {
        "id": "vHw5EA1tu1wC"
      },
      "source": [
        "Making a confusion matrix."
      ]
    },
    {
      "cell_type": "code",
      "metadata": {
        "colab": {
          "base_uri": "https://localhost:8080/"
        },
        "id": "y5rYpVSUu4sV",
        "outputId": "ba21ff88-7879-4f91-8349-0a09a88b3d45"
      },
      "source": [
        "matrix = confusion_matrix(y_pred, y_test)\r\n",
        "matrix"
      ],
      "execution_count": 627,
      "outputs": [
        {
          "output_type": "execute_result",
          "data": {
            "text/plain": [
              "array([[ 157,   87],\n",
              "       [ 262, 2026]])"
            ]
          },
          "metadata": {
            "tags": []
          },
          "execution_count": 627
        }
      ]
    },
    {
      "cell_type": "markdown",
      "metadata": {
        "id": "lAleRcQ_vQUz"
      },
      "source": [
        "We can see that most of the errors are from false negatives and the overall accuracy is the highest when compared to any of the other classification algorithms."
      ]
    },
    {
      "cell_type": "markdown",
      "metadata": {
        "id": "EPg7gNTVv_cf"
      },
      "source": [
        "## Model 4: Naive Bayes (Balanced)\r\n"
      ]
    },
    {
      "cell_type": "markdown",
      "metadata": {
        "id": "u32CxbUqwIG9"
      },
      "source": [
        "Selecting the predictor features."
      ]
    },
    {
      "cell_type": "code",
      "metadata": {
        "id": "Pmzq-KNrwDtx"
      },
      "source": [
        "predictors = ['Total_Trans_Amt', 'Total_Trans_Ct', 'Avg_Utilization_Ratio']\r\n",
        "predictors.append('Total_Revolving_Bal')"
      ],
      "execution_count": 628,
      "outputs": []
    },
    {
      "cell_type": "markdown",
      "metadata": {
        "id": "fUvzc72dwK0i"
      },
      "source": [
        "Splitting the test and training data."
      ]
    },
    {
      "cell_type": "code",
      "metadata": {
        "id": "L5vLubO2wNGD"
      },
      "source": [
        "X = df_balanced[predictors].values\r\n",
        "\r\n",
        "y = df_balanced['Attrition_Flag'].values.astype(int)\r\n",
        "\r\n",
        "X_train, X_test, y_train, y_test = train_test_split(X, y, test_size=0.25, random_state=42)"
      ],
      "execution_count": 629,
      "outputs": []
    },
    {
      "cell_type": "markdown",
      "metadata": {
        "id": "LEVxjHcywR2x"
      },
      "source": [
        "Training the naive bayes classification model."
      ]
    },
    {
      "cell_type": "code",
      "metadata": {
        "colab": {
          "base_uri": "https://localhost:8080/"
        },
        "id": "psOl1LzwwU38",
        "outputId": "f3d70f6e-2fa9-4212-9e2e-2f6180a2342c"
      },
      "source": [
        "clf = CategoricalNB()\r\n",
        "clf.fit(X_train, y_train)"
      ],
      "execution_count": 630,
      "outputs": [
        {
          "output_type": "execute_result",
          "data": {
            "text/plain": [
              "CategoricalNB(alpha=1.0, class_prior=None, fit_prior=True)"
            ]
          },
          "metadata": {
            "tags": []
          },
          "execution_count": 630
        }
      ]
    },
    {
      "cell_type": "markdown",
      "metadata": {
        "id": "a7TH-Lq0wXmq"
      },
      "source": [
        "Testing the accuracy of the model using the testing data."
      ]
    },
    {
      "cell_type": "code",
      "metadata": {
        "id": "cCJiOAEhw57b"
      },
      "source": [
        "y_pred = clf.predict(X_test)\r\n"
      ],
      "execution_count": 631,
      "outputs": []
    },
    {
      "cell_type": "code",
      "metadata": {
        "colab": {
          "base_uri": "https://localhost:8080/"
        },
        "id": "p7LrPD5y_vJN",
        "outputId": "a67e0948-f5d0-4ebf-aea3-f5c2b663ca56"
      },
      "source": [
        "(y_pred == y_test).mean()"
      ],
      "execution_count": 632,
      "outputs": [
        {
          "output_type": "execute_result",
          "data": {
            "text/plain": [
              "0.9009411764705882"
            ]
          },
          "metadata": {
            "tags": []
          },
          "execution_count": 632
        }
      ]
    },
    {
      "cell_type": "markdown",
      "metadata": {
        "id": "luHG6q3Q0Pfi"
      },
      "source": [
        "This the highest amount of accuracy we've seen so far."
      ]
    },
    {
      "cell_type": "markdown",
      "metadata": {
        "id": "fY4PNtmczAtC"
      },
      "source": [
        "# Cluster Analysis\r\n"
      ]
    },
    {
      "cell_type": "markdown",
      "metadata": {
        "id": "SdcoWmXGzF5y"
      },
      "source": [
        "Importing the libraries needed for cluster analysis."
      ]
    },
    {
      "cell_type": "code",
      "metadata": {
        "id": "baXe0JgyzEiu"
      },
      "source": [
        "from sklearn.cluster import KMeans"
      ],
      "execution_count": 633,
      "outputs": []
    },
    {
      "cell_type": "markdown",
      "metadata": {
        "id": "d1aLx5ao-tr7"
      },
      "source": [
        "Selecting the variables on which the cluster should be based on."
      ]
    },
    {
      "cell_type": "code",
      "metadata": {
        "id": "1htw91_j5jUA"
      },
      "source": [
        "predictors = ['Total_Trans_Ct', 'Total_Trans_Amt', 'Attrition_Flag']"
      ],
      "execution_count": 634,
      "outputs": []
    },
    {
      "cell_type": "markdown",
      "metadata": {
        "id": "Iut8EWIe-0M7"
      },
      "source": [
        "Normalizing the data for cluster analysis using Z-score normalization."
      ]
    },
    {
      "cell_type": "code",
      "metadata": {
        "id": "WIwYEjeS0eUv"
      },
      "source": [
        "X = df[predictors].apply(zscore).values"
      ],
      "execution_count": 635,
      "outputs": []
    },
    {
      "cell_type": "markdown",
      "metadata": {
        "id": "5MzaVgQI-7Ej"
      },
      "source": [
        "Making 7 clusters and storing the cluster information."
      ]
    },
    {
      "cell_type": "code",
      "metadata": {
        "id": "RIRKLvwX0jGa"
      },
      "source": [
        "kmeans = KMeans(n_clusters = 7, random_state=42)\r\n",
        "cluster_nums = kmeans.fit_predict(X)"
      ],
      "execution_count": 636,
      "outputs": []
    },
    {
      "cell_type": "markdown",
      "metadata": {
        "id": "24d3_AG9_BtU"
      },
      "source": [
        "Countplot based on the number of rows in each cluster."
      ]
    },
    {
      "cell_type": "code",
      "metadata": {
        "colab": {
          "base_uri": "https://localhost:8080/",
          "height": 312
        },
        "id": "nN_dCk7g197l",
        "outputId": "67b93ecb-a020-487d-c966-5f945ce166ac"
      },
      "source": [
        "sns.countplot(x=cluster_nums)\r\n",
        "plt.title('Count of rows in each cluster')\r\n",
        "plt.xlabel('Cluster Number')\r\n",
        "plt.ylabel('Count')"
      ],
      "execution_count": 637,
      "outputs": [
        {
          "output_type": "execute_result",
          "data": {
            "text/plain": [
              "Text(0, 0.5, 'Count')"
            ]
          },
          "metadata": {
            "tags": []
          },
          "execution_count": 637
        },
        {
          "output_type": "display_data",
          "data": {
            "image/png": "[encoded data removed]",
            "text/plain": [
              "<Figure size 432x288 with 1 Axes>"
            ]
          },
          "metadata": {
            "tags": [],
            "needs_background": "light"
          }
        }
      ]
    },
    {
      "cell_type": "markdown",
      "metadata": {
        "id": "2Q7gdaCb_LLs"
      },
      "source": [
        "Making a scatter plot."
      ]
    },
    {
      "cell_type": "code",
      "metadata": {
        "colab": {
          "base_uri": "https://localhost:8080/",
          "height": 638
        },
        "id": "_2nRklkq2Oev",
        "outputId": "fb179721-111b-47f9-bef1-a918aff20192"
      },
      "source": [
        "plt.figure(figsize=(10,10))\r\n",
        "sns.scatterplot(y=df['Total_Trans_Amt'], x=df['Total_Trans_Ct'], hue=cluster_nums, palette='muted', style=cluster_nums)\r\n",
        "plt.title('Cluster based on the Attrition Flag, Transaction Count and Amount')\r\n",
        "plt.xlabel('Total Transaction Amount')\r\n",
        "plt.ylabel('Total Transaction Count')"
      ],
      "execution_count": 638,
      "outputs": [
        {
          "output_type": "execute_result",
          "data": {
            "text/plain": [
              "Text(0, 0.5, 'Total Transaction Count')"
            ]
          },
          "metadata": {
            "tags": []
          },
          "execution_count": 638
        },
        {
          "output_type": "display_data",
          "data": {
            "image/png": "[encoded data removed]",
            "text/plain": [
              "<Figure size 720x720 with 1 Axes>"
            ]
          },
          "metadata": {
            "tags": [],
            "needs_background": "light"
          }
        }
      ]
    },
    {
      "cell_type": "markdown",
      "metadata": {
        "id": "N5EnYXFc_RQo"
      },
      "source": [
        "Checking inertia to see how good the cluster are."
      ]
    },
    {
      "cell_type": "code",
      "metadata": {
        "colab": {
          "base_uri": "https://localhost:8080/"
        },
        "id": "XcIuuuhm2_Jp",
        "outputId": "e32a8164-d9c6-4e4c-ccc3-8828578bbcc5"
      },
      "source": [
        "kmeans.inertia_"
      ],
      "execution_count": 639,
      "outputs": [
        {
          "output_type": "execute_result",
          "data": {
            "text/plain": [
              "1512.4642777101587"
            ]
          },
          "metadata": {
            "tags": []
          },
          "execution_count": 639
        }
      ]
    },
    {
      "cell_type": "markdown",
      "metadata": {
        "id": "70FIiY7aa4C9"
      },
      "source": [
        "# **Conclusion**"
      ]
    },
    {
      "cell_type": "markdown",
      "metadata": {
        "id": "5VYJL-iga6YC"
      },
      "source": [
        "From the logistic regression performed on the Bank churners dataset. From the data information, No categorical variables found. There appears to be no missing data; at least none in the form of NA values.\n",
        "\n",
        "Four card category observed.\n",
        "\n",
        "Female count found to be more in comparison to Male.\n",
        "\n",
        "We can see that Naive Bayes Classification works and provides the best prediction on both balanced and unbalanced data using the Total Transaction Amount, Total Transaction Count, Average Utilization Ratio and Total amount as revolving balance features.\n",
        "\n",
        "Classification tree also gives very good predictions using Credit_Limit,Total Transaction Amount, Total Transaction Count and Avergae Utilization Ratio. Though we saw from the feature importances that credit limit doesn't affect the predictions made.\n",
        "\n",
        "Logistic regression performs the worst when comparede to other classification algorithms."
      ]
    }
  ]
}